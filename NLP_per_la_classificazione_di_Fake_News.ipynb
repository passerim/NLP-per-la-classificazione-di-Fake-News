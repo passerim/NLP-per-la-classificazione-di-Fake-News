{
  "nbformat": 4,
  "nbformat_minor": 0,
  "metadata": {
    "colab": {
      "name": "NLP per la classificazione di Fake News.ipynb",
      "provenance": [],
      "collapsed_sections": [],
      "toc_visible": true,
      "authorship_tag": "ABX9TyPOHndhbbpGzrbPYHtV1MiE",
      "include_colab_link": true
    },
    "kernelspec": {
      "name": "python3",
      "display_name": "Python 3"
    }
  },
  "cells": [
    {
      "cell_type": "markdown",
      "metadata": {
        "id": "view-in-github",
        "colab_type": "text"
      },
      "source": [
        "<a href=\"https://colab.research.google.com/github/passerim/NLP-per-la-classificazione-di-Fake-News/blob/master/NLP_per_la_classificazione_di_Fake_News.ipynb\" target=\"_parent\"><img src=\"https://colab.research.google.com/assets/colab-badge.svg\" alt=\"Open In Colab\"/></a>"
      ]
    },
    {
      "cell_type": "markdown",
      "metadata": {
        "id": "Vq2ixbdIskH1",
        "colab_type": "text"
      },
      "source": [
        "# NLP per la classificazione di Fake News\n",
        "\n",
        "**Progetto per il corso Programmazione di Applicazioni Data Intensive 2019/2020**  \n",
        "\n",
        "Mattia Passeri  \n",
        "`mattia.passeri2@studio.unibo.it`"
      ]
    },
    {
      "cell_type": "markdown",
      "metadata": {
        "id": "89TidhOM_ptT",
        "colab_type": "text"
      },
      "source": [
        "# Descrizione\n",
        "> L' obiettivo di questo elaborato è esplorare un dataset, famoso per il Natural Language Processing sul sito Kaggle, contenente numerosi articoli in lingua inglese etichettati come Veritieri (True) o Fake News (Fake). Si desidera implementare un sistema, facente uso di tecniche di elaborazione del linguaggio naturale e machine learning, per classificare in modo automatico le notizie nelle due categorie.\n",
        "* Il dataset è interamente collezionato da fonti reali. Gli articoli autentici sono presi dal sito di informazione Reuters.com. Le fake news sono collezionate dal sito kaggle.com e provengono da un dataset di articoli etichettati da Politifact (un organizzazione di fact‐checking negli USA) in collaborazione con Facebook. Il dataset si concentra particolarmente su notizie di politica, in quanto è l'argomento maggiormente preso di mira dai creatori di fake news. Gli articoli sono stati pubblicati nel 2016 e 2017, durante e dopo il periodo delle elezioni presidenziali degli USA.\n",
        "1. Ahmed H, Traore I, Saad S. “Detecting opinion spams and fake news using text classification”, Journal of Security and Privacy, Volume 1, Issue 1, Wiley, January/February 2018.\n",
        "2. Ahmed H, Traore I, Saad S. (2017) “Detection of Online Fake News Using N-Gram Analysis and Machine Learning Techniques. In: Traore I., Woungang I., Awad A. (eds) Intelligent, Secure, and Dependable Systems in Distributed and Cloud Environments. ISDDC 2017. Lecture Notes in Computer Science, vol 10618. Springer, Cham (pp. 127-138).\n",
        "* Link alla pagina Kaggle del dataset: https://www.kaggle.com/clmentbisaillon/fake-and-real-news-dataset"
      ]
    },
    {
      "cell_type": "markdown",
      "metadata": {
        "id": "81WjEoytEEPT",
        "colab_type": "text"
      },
      "source": [
        "### ***Attenzione***\n",
        "* Il notebook realizza un'analisi su un corpus piuttosto grande di documenti. Per tanto il tempo di esecuzione di alcune celle è elevato, le celle che richiedono un tempo di esecuzione possibilmente superiore a 5 minuti sono evidenziate con il commento: `# tempo di esecuzione alto`.\n",
        "* Tempo stimato di esecuzione del notebook in Colab: 25/30 minuti."
      ]
    },
    {
      "cell_type": "markdown",
      "metadata": {
        "id": "_eI0puJYAoEs",
        "colab_type": "text"
      },
      "source": [
        "## Importazione librerie e caricamento dataset\n",
        "* Viene utilizzata la libreria Natural Language Toolkit per il NLP e la libreria scikit-learn per il machine learning. I dati vengono gestiti grazie alla libreria Pandas, mentre Scipy e Numpy gestiscono funzioni matematiche e di manipolazione di matrici. Per la visualizzazione di grafici si utilizza Matplotlib e Plotly."
      ]
    },
    {
      "cell_type": "code",
      "metadata": {
        "id": "jcGEAEMYvhjU",
        "colab_type": "code",
        "colab": {
          "base_uri": "https://localhost:8080/",
          "height": 68
        },
        "outputId": "40657e34-c5b4-47ad-dabd-d5944b0a50f0"
      },
      "source": [
        "import re, string\n",
        "import numpy as np\n",
        "import pandas as pd\n",
        "from scipy import sparse, stats\n",
        "import matplotlib.pyplot as plt\n",
        "from plotly.subplots import make_subplots\n",
        "import plotly.graph_objects as go\n",
        "from sklearn.feature_extraction.text import CountVectorizer\n",
        "import nltk\n",
        "nltk.download(\"stopwords\")"
      ],
      "execution_count": 1,
      "outputs": [
        {
          "output_type": "stream",
          "text": [
            "[nltk_data] Downloading package stopwords to /root/nltk_data...\n",
            "[nltk_data]   Unzipping corpora/stopwords.zip.\n"
          ],
          "name": "stdout"
        },
        {
          "output_type": "execute_result",
          "data": {
            "text/plain": [
              "True"
            ]
          },
          "metadata": {
            "tags": []
          },
          "execution_count": 1
        }
      ]
    },
    {
      "cell_type": "markdown",
      "metadata": {
        "id": "MaG796csruuh",
        "colab_type": "text"
      },
      "source": [
        "* Il dataset contenente gli articoli su cui eseguire la classificazione è diviso in due file.\n",
        "* Si carica il dataset un file per volta con Pandas per procedere all'analisi esplorativa.\n",
        "\n",
        "* Il dataset è costituito da due file:\n",
        "** True.csv, contenente articoli veritieri dal sito Reuters.com.\n",
        "** Fake.csv, contenente articoli etichettati come fake news.\n",
        "\n",
        "\n"
      ]
    },
    {
      "cell_type": "code",
      "metadata": {
        "id": "DEuCPPw1rHKd",
        "colab_type": "code",
        "colab": {
          "base_uri": "https://localhost:8080/",
          "height": 34
        },
        "outputId": "c9c5d165-220d-41af-9ca8-fda19dce993b"
      },
      "source": [
        "import os \n",
        "if not os.path.exists('./True.csv') or not os.path.exists('./Fake.csv'):\n",
        "    print(\"E' necessario scaricare il dataset dal sito Kaggle!\")\n",
        "else:\n",
        "    print('File presenti.')"
      ],
      "execution_count": 2,
      "outputs": [
        {
          "output_type": "stream",
          "text": [
            "File presenti.\n"
          ],
          "name": "stdout"
        }
      ]
    },
    {
      "cell_type": "markdown",
      "metadata": {
        "id": "OMzr0spctWjR",
        "colab_type": "text"
      },
      "source": [
        "### Caricamento articoli veritieri\n",
        "* True.csv viene caricato esplicitando il parsing del campo `date` in formato datetime di Pandas, il formato viene riconosciuto dalla libreria e il parsing viene effettuato correttamente, gli articoli vengono quindi ordinati in ordine decrescente secondo l'attributo `date`.\n",
        "\n",
        "* Nel file sono presenti 4 attributi:\n",
        "** `title`: contiene i titoli degli articoli.\n",
        "** `text`: contine il testo degli articoli.\n",
        "** `subject`: contiene la categoria.\n",
        "** date: contiene la data di pubblicazione."
      ]
    },
    {
      "cell_type": "code",
      "metadata": {
        "id": "sY3MrJu2xKX8",
        "colab_type": "code",
        "colab": {}
      },
      "source": [
        "true = pd.read_csv('./True.csv', parse_dates=['date'])"
      ],
      "execution_count": 3,
      "outputs": []
    },
    {
      "cell_type": "code",
      "metadata": {
        "id": "bwXmCRwtxRnx",
        "colab_type": "code",
        "colab": {}
      },
      "source": [
        "true.sort_values(by=['date'], inplace=True, ignore_index=True, ascending=False)"
      ],
      "execution_count": 4,
      "outputs": []
    },
    {
      "cell_type": "code",
      "metadata": {
        "id": "sCw8NJ633EpS",
        "colab_type": "code",
        "colab": {
          "base_uri": "https://localhost:8080/",
          "height": 359
        },
        "outputId": "8c881165-b9e3-4d72-f26a-3c5cede31211"
      },
      "source": [
        "true.head(10)"
      ],
      "execution_count": 5,
      "outputs": [
        {
          "output_type": "execute_result",
          "data": {
            "text/html": [
              "<div>\n",
              "<style scoped>\n",
              "    .dataframe tbody tr th:only-of-type {\n",
              "        vertical-align: middle;\n",
              "    }\n",
              "\n",
              "    .dataframe tbody tr th {\n",
              "        vertical-align: top;\n",
              "    }\n",
              "\n",
              "    .dataframe thead th {\n",
              "        text-align: right;\n",
              "    }\n",
              "</style>\n",
              "<table border=\"1\" class=\"dataframe\">\n",
              "  <thead>\n",
              "    <tr style=\"text-align: right;\">\n",
              "      <th></th>\n",
              "      <th>title</th>\n",
              "      <th>text</th>\n",
              "      <th>subject</th>\n",
              "      <th>date</th>\n",
              "    </tr>\n",
              "  </thead>\n",
              "  <tbody>\n",
              "    <tr>\n",
              "      <th>0</th>\n",
              "      <td>As U.S. budget fight looms, Republicans flip t...</td>\n",
              "      <td>WASHINGTON (Reuters) - The head of a conservat...</td>\n",
              "      <td>politicsNews</td>\n",
              "      <td>2017-12-31</td>\n",
              "    </tr>\n",
              "    <tr>\n",
              "      <th>1</th>\n",
              "      <td>Senior U.S. Republican senator: 'Let Mr. Muell...</td>\n",
              "      <td>WASHINGTON (Reuters) - The special counsel inv...</td>\n",
              "      <td>politicsNews</td>\n",
              "      <td>2017-12-31</td>\n",
              "    </tr>\n",
              "    <tr>\n",
              "      <th>2</th>\n",
              "      <td>FBI Russia probe helped by Australian diplomat...</td>\n",
              "      <td>WASHINGTON (Reuters) - Trump campaign adviser ...</td>\n",
              "      <td>politicsNews</td>\n",
              "      <td>2017-12-30</td>\n",
              "    </tr>\n",
              "    <tr>\n",
              "      <th>3</th>\n",
              "      <td>Trump wants Postal Service to charge 'much mor...</td>\n",
              "      <td>SEATTLE/WASHINGTON (Reuters) - President Donal...</td>\n",
              "      <td>politicsNews</td>\n",
              "      <td>2017-12-29</td>\n",
              "    </tr>\n",
              "    <tr>\n",
              "      <th>4</th>\n",
              "      <td>White House, Congress prepare for talks on spe...</td>\n",
              "      <td>WEST PALM BEACH, Fla./WASHINGTON (Reuters) - T...</td>\n",
              "      <td>politicsNews</td>\n",
              "      <td>2017-12-29</td>\n",
              "    </tr>\n",
              "    <tr>\n",
              "      <th>5</th>\n",
              "      <td>Trump says Russia probe will be fair, but time...</td>\n",
              "      <td>WEST PALM BEACH, Fla (Reuters) - President Don...</td>\n",
              "      <td>politicsNews</td>\n",
              "      <td>2017-12-29</td>\n",
              "    </tr>\n",
              "    <tr>\n",
              "      <th>6</th>\n",
              "      <td>Factbox: Trump on Twitter (Dec 29) - Approval ...</td>\n",
              "      <td>The following statements were posted to the ve...</td>\n",
              "      <td>politicsNews</td>\n",
              "      <td>2017-12-29</td>\n",
              "    </tr>\n",
              "    <tr>\n",
              "      <th>7</th>\n",
              "      <td>Trump on Twitter (Dec 28) - Global Warming</td>\n",
              "      <td>The following statements were posted to the ve...</td>\n",
              "      <td>politicsNews</td>\n",
              "      <td>2017-12-29</td>\n",
              "    </tr>\n",
              "    <tr>\n",
              "      <th>8</th>\n",
              "      <td>U.S. military to accept transgender recruits o...</td>\n",
              "      <td>WASHINGTON (Reuters) - Transgender people will...</td>\n",
              "      <td>politicsNews</td>\n",
              "      <td>2017-12-29</td>\n",
              "    </tr>\n",
              "    <tr>\n",
              "      <th>9</th>\n",
              "      <td>New York governor questions the constitutional...</td>\n",
              "      <td>NEW YORK/WASHINGTON (Reuters) - The new U.S. t...</td>\n",
              "      <td>politicsNews</td>\n",
              "      <td>2017-12-28</td>\n",
              "    </tr>\n",
              "  </tbody>\n",
              "</table>\n",
              "</div>"
            ],
            "text/plain": [
              "                                               title  ...       date\n",
              "0  As U.S. budget fight looms, Republicans flip t...  ... 2017-12-31\n",
              "1  Senior U.S. Republican senator: 'Let Mr. Muell...  ... 2017-12-31\n",
              "2  FBI Russia probe helped by Australian diplomat...  ... 2017-12-30\n",
              "3  Trump wants Postal Service to charge 'much mor...  ... 2017-12-29\n",
              "4  White House, Congress prepare for talks on spe...  ... 2017-12-29\n",
              "5  Trump says Russia probe will be fair, but time...  ... 2017-12-29\n",
              "6  Factbox: Trump on Twitter (Dec 29) - Approval ...  ... 2017-12-29\n",
              "7         Trump on Twitter (Dec 28) - Global Warming  ... 2017-12-29\n",
              "8  U.S. military to accept transgender recruits o...  ... 2017-12-29\n",
              "9  New York governor questions the constitutional...  ... 2017-12-28\n",
              "\n",
              "[10 rows x 4 columns]"
            ]
          },
          "metadata": {
            "tags": []
          },
          "execution_count": 5
        }
      ]
    },
    {
      "cell_type": "code",
      "metadata": {
        "id": "MGh470271olo",
        "colab_type": "code",
        "colab": {
          "base_uri": "https://localhost:8080/",
          "height": 238
        },
        "outputId": "9a025384-e84f-42a7-f605-f4d243d57775"
      },
      "source": [
        "print('Numero articoli caricati:', len(true))\n",
        "print(true.info())"
      ],
      "execution_count": 6,
      "outputs": [
        {
          "output_type": "stream",
          "text": [
            "Numero articoli caricati: 21417\n",
            "<class 'pandas.core.frame.DataFrame'>\n",
            "RangeIndex: 21417 entries, 0 to 21416\n",
            "Data columns (total 4 columns):\n",
            " #   Column   Non-Null Count  Dtype         \n",
            "---  ------   --------------  -----         \n",
            " 0   title    21417 non-null  object        \n",
            " 1   text     21417 non-null  object        \n",
            " 2   subject  21417 non-null  object        \n",
            " 3   date     21417 non-null  datetime64[ns]\n",
            "dtypes: datetime64[ns](1), object(3)\n",
            "memory usage: 669.4+ KB\n",
            "None\n"
          ],
          "name": "stdout"
        }
      ]
    },
    {
      "cell_type": "markdown",
      "metadata": {
        "id": "SF2RjXvNm6Y7",
        "colab_type": "text"
      },
      "source": [
        "### Intestazione articoli e tweet\n",
        "* Tutti gli articoli in `true` sono presi dal giornale Retuters.com, il testo degli articoli presenta un'instestazione con indicazione di un luogo e il nome del giornale.\n",
        "* Alcuni articoli, come i numeri 6 e 7, citano tweet e hanno una struttura del testo differente dagli altri.\n",
        "> Queste caratteristiche verranno trattate successivamente in quanto possono essere fonti di bias che il modello di learning può sfruttare in maniera indesiderata."
      ]
    },
    {
      "cell_type": "code",
      "metadata": {
        "id": "0fm9j3gFYBgJ",
        "colab_type": "code",
        "colab": {
          "base_uri": "https://localhost:8080/",
          "height": 34
        },
        "outputId": "f519139b-02c2-4b6b-fe27-655591498a11"
      },
      "source": [
        "print('Numero articoli non-tweet:', len(true.text[(true.text.str.find('The following statements') < 0)]))"
      ],
      "execution_count": 7,
      "outputs": [
        {
          "output_type": "stream",
          "text": [
            "Numero articoli non-tweet: 21322\n"
          ],
          "name": "stdout"
        }
      ]
    },
    {
      "cell_type": "code",
      "metadata": {
        "id": "otpDsOCFs6s7",
        "colab_type": "code",
        "colab": {
          "base_uri": "https://localhost:8080/",
          "height": 221
        },
        "outputId": "b9760047-8068-40b1-d33c-a4baa383cd2e"
      },
      "source": [
        "true.text[(true.text.str.find('The following statements') < 0)]"
      ],
      "execution_count": 8,
      "outputs": [
        {
          "output_type": "execute_result",
          "data": {
            "text/plain": [
              "0        WASHINGTON (Reuters) - The head of a conservat...\n",
              "1        WASHINGTON (Reuters) - The special counsel inv...\n",
              "2        WASHINGTON (Reuters) - Trump campaign adviser ...\n",
              "3        SEATTLE/WASHINGTON (Reuters) - President Donal...\n",
              "4        WEST PALM BEACH, Fla./WASHINGTON (Reuters) - T...\n",
              "                               ...                        \n",
              "21412    WASHINGTON (Reuters) - President Barack Obama’...\n",
              "21413    WASHINGTON (Reuters) - The United States will ...\n",
              "21414    SEOUL (Reuters) - South Korea warned North Kor...\n",
              "21415    OMAHA, Neb. (Reuters) - President Barack Obama...\n",
              "21416    AMES, Iowa (Reuters) - U.S. Democratic preside...\n",
              "Name: text, Length: 21322, dtype: object"
            ]
          },
          "metadata": {
            "tags": []
          },
          "execution_count": 8
        }
      ]
    },
    {
      "cell_type": "code",
      "metadata": {
        "id": "PDUK21TQYKyR",
        "colab_type": "code",
        "colab": {
          "base_uri": "https://localhost:8080/",
          "height": 34
        },
        "outputId": "3b92a5ed-cfaf-44a1-a9c8-a793b65bb83a"
      },
      "source": [
        "print('Numero tweet:', len(true[(true.text.str.find('The following statements') == 0)]))"
      ],
      "execution_count": 9,
      "outputs": [
        {
          "output_type": "stream",
          "text": [
            "Numero tweet: 95\n"
          ],
          "name": "stdout"
        }
      ]
    },
    {
      "cell_type": "code",
      "metadata": {
        "id": "4ULj7HiRez1O",
        "colab_type": "code",
        "colab": {
          "base_uri": "https://localhost:8080/",
          "height": 204
        },
        "outputId": "377d0c53-b503-442b-b1dd-7eac150ee045"
      },
      "source": [
        "(true[(true.text.str.find('The following statements') == 0)]).head(5)"
      ],
      "execution_count": 10,
      "outputs": [
        {
          "output_type": "execute_result",
          "data": {
            "text/html": [
              "<div>\n",
              "<style scoped>\n",
              "    .dataframe tbody tr th:only-of-type {\n",
              "        vertical-align: middle;\n",
              "    }\n",
              "\n",
              "    .dataframe tbody tr th {\n",
              "        vertical-align: top;\n",
              "    }\n",
              "\n",
              "    .dataframe thead th {\n",
              "        text-align: right;\n",
              "    }\n",
              "</style>\n",
              "<table border=\"1\" class=\"dataframe\">\n",
              "  <thead>\n",
              "    <tr style=\"text-align: right;\">\n",
              "      <th></th>\n",
              "      <th>title</th>\n",
              "      <th>text</th>\n",
              "      <th>subject</th>\n",
              "      <th>date</th>\n",
              "    </tr>\n",
              "  </thead>\n",
              "  <tbody>\n",
              "    <tr>\n",
              "      <th>6</th>\n",
              "      <td>Factbox: Trump on Twitter (Dec 29) - Approval ...</td>\n",
              "      <td>The following statements were posted to the ve...</td>\n",
              "      <td>politicsNews</td>\n",
              "      <td>2017-12-29</td>\n",
              "    </tr>\n",
              "    <tr>\n",
              "      <th>7</th>\n",
              "      <td>Trump on Twitter (Dec 28) - Global Warming</td>\n",
              "      <td>The following statements were posted to the ve...</td>\n",
              "      <td>politicsNews</td>\n",
              "      <td>2017-12-29</td>\n",
              "    </tr>\n",
              "    <tr>\n",
              "      <th>10</th>\n",
              "      <td>Trump on Twitter (Dec 27) - Trump, Iraq, Syria</td>\n",
              "      <td>The following statements were posted to the ve...</td>\n",
              "      <td>politicsNews</td>\n",
              "      <td>2017-12-28</td>\n",
              "    </tr>\n",
              "    <tr>\n",
              "      <th>11</th>\n",
              "      <td>Factbox: Trump on Twitter (Dec 28) - Vanity Fa...</td>\n",
              "      <td>The following statements were posted to the ve...</td>\n",
              "      <td>politicsNews</td>\n",
              "      <td>2017-12-28</td>\n",
              "    </tr>\n",
              "    <tr>\n",
              "      <th>100</th>\n",
              "      <td>Trump on Twitter (Dec 26) - Hillary Clinton, T...</td>\n",
              "      <td>The following statements were posted to the ve...</td>\n",
              "      <td>worldnews</td>\n",
              "      <td>2017-12-26</td>\n",
              "    </tr>\n",
              "  </tbody>\n",
              "</table>\n",
              "</div>"
            ],
            "text/plain": [
              "                                                 title  ...       date\n",
              "6    Factbox: Trump on Twitter (Dec 29) - Approval ...  ... 2017-12-29\n",
              "7           Trump on Twitter (Dec 28) - Global Warming  ... 2017-12-29\n",
              "10      Trump on Twitter (Dec 27) - Trump, Iraq, Syria  ... 2017-12-28\n",
              "11   Factbox: Trump on Twitter (Dec 28) - Vanity Fa...  ... 2017-12-28\n",
              "100  Trump on Twitter (Dec 26) - Hillary Clinton, T...  ... 2017-12-26\n",
              "\n",
              "[5 rows x 4 columns]"
            ]
          },
          "metadata": {
            "tags": []
          },
          "execution_count": 10
        }
      ]
    },
    {
      "cell_type": "markdown",
      "metadata": {
        "id": "jgaaWNdKBN45",
        "colab_type": "text"
      },
      "source": [
        "* Stampa di esempio per osservare la struttura dei tweet."
      ]
    },
    {
      "cell_type": "code",
      "metadata": {
        "id": "NUGn0Kw5gAK0",
        "colab_type": "code",
        "colab": {
          "base_uri": "https://localhost:8080/",
          "height": 71
        },
        "outputId": "d018ea43-0a32-46e2-c23d-44a45371c831"
      },
      "source": [
        "true.text[(true.text.str.find('The following s') == 0)].values[:1]"
      ],
      "execution_count": 11,
      "outputs": [
        {
          "output_type": "execute_result",
          "data": {
            "text/plain": [
              "array(['The following statements\\xa0were posted to the verified Twitter accounts of U.S. President Donald Trump, @realDonaldTrump and @POTUS.  The opinions expressed are his own.\\xa0Reuters has not edited the statements or confirmed their accuracy.  @realDonaldTrump : - While the Fake News loves to talk about my so-called low approval rating, @foxandfriends just showed that my rating on Dec. 28, 2017, was approximately the same as President Obama on Dec. 28, 2009, which was 47%...and this despite massive negative Trump coverage & Russia hoax! [0746 EST] - Why is the United States Post Office, which is losing many billions of dollars a year, while charging Amazon and others so little to deliver their packages, making Amazon richer and the Post Office dumber and poorer? Should be charging MUCH MORE! [0804 EST] -- Source link: (bit.ly/2jBh4LU) (bit.ly/2jpEXYR) '],\n",
              "      dtype=object)"
            ]
          },
          "metadata": {
            "tags": []
          },
          "execution_count": 11
        }
      ]
    },
    {
      "cell_type": "markdown",
      "metadata": {
        "id": "GM4q71d_uUoa",
        "colab_type": "text"
      },
      "source": [
        "### Pulizia dei dati\n",
        "* Si procede sucessivamente all'analisi esplorativa parziale del primo file caricato, per trovare caratteristiche dei dati che possano dar luogo a problemi.\n",
        "* In particolare si vuole verificare che non esistano record con attributi mancanti e con testo vuoto o troppo breve.\n",
        "\n"
      ]
    },
    {
      "cell_type": "code",
      "metadata": {
        "id": "a4Hk6NB21rGy",
        "colab_type": "code",
        "colab": {
          "base_uri": "https://localhost:8080/",
          "height": 102
        },
        "outputId": "78bd9fdc-ae9c-4612-8b8a-f023539876da"
      },
      "source": [
        "true.isna().sum()"
      ],
      "execution_count": 12,
      "outputs": [
        {
          "output_type": "execute_result",
          "data": {
            "text/plain": [
              "title      0\n",
              "text       0\n",
              "subject    0\n",
              "date       0\n",
              "dtype: int64"
            ]
          },
          "metadata": {
            "tags": []
          },
          "execution_count": 12
        }
      ]
    },
    {
      "cell_type": "markdown",
      "metadata": {
        "id": "dI_sVqJ8bF0X",
        "colab_type": "text"
      },
      "source": [
        "* Aggiunta di una colonna al DataFrame con il numero di parole dell'attributo `text` per ogni articolo.\n",
        "* Viene graficato l'andamento del numero di articoli con un numero di parole maggiore o uguale a una certa quantità, per un numero di parole che va da 0 al primo quartile."
      ]
    },
    {
      "cell_type": "code",
      "metadata": {
        "id": "0JdY2k0_DVAI",
        "colab_type": "code",
        "colab": {}
      },
      "source": [
        "true['num_words'] = true.text.apply(lambda x: len(x.split()))"
      ],
      "execution_count": 13,
      "outputs": []
    },
    {
      "cell_type": "code",
      "metadata": {
        "id": "tpOwxugPDOv1",
        "colab_type": "code",
        "colab": {
          "base_uri": "https://localhost:8080/",
          "height": 265
        },
        "outputId": "51cd5fcd-706a-4d19-8b2e-24298cb55b7c"
      },
      "source": [
        "small_text = []\n",
        "for i in range(0,int(true.num_words.quantile(.25)),5):\n",
        "    small_text.append((true['num_words'] < i).sum())\n",
        "plt.bar(list(range(0,int(true.num_words.quantile(.25)),5)), small_text)\n",
        "plt.show()"
      ],
      "execution_count": 14,
      "outputs": [
        {
          "output_type": "display_data",
          "data": {
            "image/png": "[encoded data removed]",
            "text/plain": [
              "<Figure size 432x288 with 1 Axes>"
            ]
          },
          "metadata": {
            "tags": [],
            "needs_background": "light"
          }
        }
      ]
    },
    {
      "cell_type": "markdown",
      "metadata": {
        "id": "5Tm7zHlub8tN",
        "colab_type": "text"
      },
      "source": [
        "* Dal grafico emerge che la quantità di articoli con meno di 20/30 parole è trascurabile e possono reputarsi outliers o cattivi esempi che è preferibile escludere dal dataset.\n",
        "* Di conseguenza vengono mostrati tutti gli articoli con meno di 20 parole per verifica e poi vengono eliminati dal DataFrame."
      ]
    },
    {
      "cell_type": "code",
      "metadata": {
        "id": "pr71qIPEDBOT",
        "colab_type": "code",
        "colab": {
          "base_uri": "https://localhost:8080/",
          "height": 80
        },
        "outputId": "64b73f2e-b0b2-4471-b439-32f3b15c5e04"
      },
      "source": [
        "true[true.text.apply(lambda x: len(x.split()) < 20)]"
      ],
      "execution_count": 15,
      "outputs": [
        {
          "output_type": "execute_result",
          "data": {
            "text/html": [
              "<div>\n",
              "<style scoped>\n",
              "    .dataframe tbody tr th:only-of-type {\n",
              "        vertical-align: middle;\n",
              "    }\n",
              "\n",
              "    .dataframe tbody tr th {\n",
              "        vertical-align: top;\n",
              "    }\n",
              "\n",
              "    .dataframe thead th {\n",
              "        text-align: right;\n",
              "    }\n",
              "</style>\n",
              "<table border=\"1\" class=\"dataframe\">\n",
              "  <thead>\n",
              "    <tr style=\"text-align: right;\">\n",
              "      <th></th>\n",
              "      <th>title</th>\n",
              "      <th>text</th>\n",
              "      <th>subject</th>\n",
              "      <th>date</th>\n",
              "      <th>num_words</th>\n",
              "    </tr>\n",
              "  </thead>\n",
              "  <tbody>\n",
              "    <tr>\n",
              "      <th>19236</th>\n",
              "      <td>Graphic: Supreme Court roundup</td>\n",
              "      <td></td>\n",
              "      <td>politicsNews</td>\n",
              "      <td>2016-06-16</td>\n",
              "      <td>0</td>\n",
              "    </tr>\n",
              "  </tbody>\n",
              "</table>\n",
              "</div>"
            ],
            "text/plain": [
              "                                title text       subject       date  num_words\n",
              "19236  Graphic: Supreme Court roundup       politicsNews 2016-06-16          0"
            ]
          },
          "metadata": {
            "tags": []
          },
          "execution_count": 15
        }
      ]
    },
    {
      "cell_type": "code",
      "metadata": {
        "id": "aq4O3R8PGsmO",
        "colab_type": "code",
        "colab": {}
      },
      "source": [
        "true.drop(true[true.text.apply(lambda x: len(x.split()) < 20)].index, inplace=True)\n",
        "true.reset_index(drop=True, inplace=True)"
      ],
      "execution_count": 16,
      "outputs": []
    },
    {
      "cell_type": "markdown",
      "metadata": {
        "id": "6j3J-x3ndmFw",
        "colab_type": "text"
      },
      "source": [
        "### Caricamento dataset Fake News\n",
        "* Si carica il dataset Fake.csv contenente articoli etichettati come \"falsi\".\n",
        "* La prima criticità presente in questo caso è che Pandas non riesce ad effettuare il parsing delle date degli articoli. Si rende quindi necessario controllare il motivo del malfunzionamento e procedere al parsing manuale."
      ]
    },
    {
      "cell_type": "code",
      "metadata": {
        "id": "LESwRCN_xSW1",
        "colab_type": "code",
        "colab": {}
      },
      "source": [
        "fake = pd.read_csv('./Fake.csv', parse_dates=['date'])"
      ],
      "execution_count": 17,
      "outputs": []
    },
    {
      "cell_type": "markdown",
      "metadata": {
        "id": "PsCipG-Gec7W",
        "colab_type": "text"
      },
      "source": [
        "* L' attributo `date` ha Dtype=object, Pandas ha fallito il parsing!\n",
        "* Il campo `date` di alcuni articoli contiene valori che non rappresentano una data.\n",
        "* Viene effettuato il parsing forzato e poi eliminati gli articoli con data non corretta. Infatti molto probabilmente saranno articoli mal formattati che non rappresentano un'aggiunta significativa al campione."
      ]
    },
    {
      "cell_type": "code",
      "metadata": {
        "id": "SKR-C23uy4Bj",
        "colab_type": "code",
        "colab": {
          "base_uri": "https://localhost:8080/",
          "height": 204
        },
        "outputId": "efdd44a3-b825-428d-9e5d-6fbf755c4aa3"
      },
      "source": [
        "fake.info()"
      ],
      "execution_count": 18,
      "outputs": [
        {
          "output_type": "stream",
          "text": [
            "<class 'pandas.core.frame.DataFrame'>\n",
            "RangeIndex: 23481 entries, 0 to 23480\n",
            "Data columns (total 4 columns):\n",
            " #   Column   Non-Null Count  Dtype \n",
            "---  ------   --------------  ----- \n",
            " 0   title    23481 non-null  object\n",
            " 1   text     23481 non-null  object\n",
            " 2   subject  23481 non-null  object\n",
            " 3   date     23481 non-null  object\n",
            "dtypes: object(4)\n",
            "memory usage: 733.9+ KB\n"
          ],
          "name": "stdout"
        }
      ]
    },
    {
      "cell_type": "code",
      "metadata": {
        "id": "5CpeMZ4y0LTa",
        "colab_type": "code",
        "colab": {
          "base_uri": "https://localhost:8080/",
          "height": 221
        },
        "outputId": "1e886d14-d087-45b2-b54d-474cd010e1c3"
      },
      "source": [
        "fake.date.value_counts()"
      ],
      "execution_count": 19,
      "outputs": [
        {
          "output_type": "execute_result",
          "data": {
            "text/plain": [
              "May 10, 2017         46\n",
              "May 26, 2016         44\n",
              "May 6, 2016          44\n",
              "May 5, 2016          44\n",
              "May 11, 2016         43\n",
              "                     ..\n",
              "14-Feb-18             1\n",
              "November 19, 2017     1\n",
              "December 9, 2017      1\n",
              "Apr 2, 2015           1\n",
              "December 4, 2017      1\n",
              "Name: date, Length: 1681, dtype: int64"
            ]
          },
          "metadata": {
            "tags": []
          },
          "execution_count": 19
        }
      ]
    },
    {
      "cell_type": "code",
      "metadata": {
        "id": "eS1YU83hxloZ",
        "colab_type": "code",
        "colab": {}
      },
      "source": [
        "fake.date = fake.date.apply(lambda x: pd.to_datetime(x, errors='coerce'))"
      ],
      "execution_count": 20,
      "outputs": []
    },
    {
      "cell_type": "code",
      "metadata": {
        "id": "MudBFRN7yCaZ",
        "colab_type": "code",
        "colab": {
          "base_uri": "https://localhost:8080/",
          "height": 102
        },
        "outputId": "a386a999-b24d-43f0-f81a-8b5f376d325d"
      },
      "source": [
        "fake.isna().sum()"
      ],
      "execution_count": 21,
      "outputs": [
        {
          "output_type": "execute_result",
          "data": {
            "text/plain": [
              "title       0\n",
              "text        0\n",
              "subject     0\n",
              "date       10\n",
              "dtype: int64"
            ]
          },
          "metadata": {
            "tags": []
          },
          "execution_count": 21
        }
      ]
    },
    {
      "cell_type": "code",
      "metadata": {
        "id": "zeL3wsa00hWH",
        "colab_type": "code",
        "colab": {}
      },
      "source": [
        "fake.dropna(inplace=True)\n",
        "fake.reset_index(inplace=True, drop=True)"
      ],
      "execution_count": 22,
      "outputs": []
    },
    {
      "cell_type": "code",
      "metadata": {
        "id": "aanAzb1zCF92",
        "colab_type": "code",
        "colab": {
          "base_uri": "https://localhost:8080/",
          "height": 204
        },
        "outputId": "4c1d7f81-f960-47ee-da5b-0761817cb92b"
      },
      "source": [
        "fake.info()"
      ],
      "execution_count": 23,
      "outputs": [
        {
          "output_type": "stream",
          "text": [
            "<class 'pandas.core.frame.DataFrame'>\n",
            "RangeIndex: 23471 entries, 0 to 23470\n",
            "Data columns (total 4 columns):\n",
            " #   Column   Non-Null Count  Dtype         \n",
            "---  ------   --------------  -----         \n",
            " 0   title    23471 non-null  object        \n",
            " 1   text     23471 non-null  object        \n",
            " 2   subject  23471 non-null  object        \n",
            " 3   date     23471 non-null  datetime64[ns]\n",
            "dtypes: datetime64[ns](1), object(3)\n",
            "memory usage: 733.6+ KB\n"
          ],
          "name": "stdout"
        }
      ]
    },
    {
      "cell_type": "markdown",
      "metadata": {
        "id": "bpur4qeyfWB7",
        "colab_type": "text"
      },
      "source": [
        "### Pulizia articoli\n",
        "* Viene ripetuto un procedimento analogo al precedente per filtrare gli articoli con testo non presente, troppo breve o composto esclusivamente da link.\n",
        "* La soglia di parole sotto al quale un articolo viene scartato è sempre 20."
      ]
    },
    {
      "cell_type": "code",
      "metadata": {
        "id": "XltPEPODIQuq",
        "colab_type": "code",
        "colab": {}
      },
      "source": [
        "fake['num_words'] = fake.text.apply(lambda x: len(x.split()))"
      ],
      "execution_count": 24,
      "outputs": []
    },
    {
      "cell_type": "code",
      "metadata": {
        "id": "HOMkDRkQINP3",
        "colab_type": "code",
        "colab": {
          "base_uri": "https://localhost:8080/",
          "height": 269
        },
        "outputId": "7f8600bc-7470-4492-ddd2-df204e7e2fb8"
      },
      "source": [
        "small_text = []\n",
        "for i in range(0,int(fake.num_words.quantile(.25)),5):\n",
        "    small_text.append((fake['num_words'] < i).sum())\n",
        "plt.bar(list(range(0,int(fake.num_words.quantile(.25)),5)), small_text)\n",
        "plt.show()"
      ],
      "execution_count": 25,
      "outputs": [
        {
          "output_type": "display_data",
          "data": {
            "image/png": "[encoded data removed]",
            "text/plain": [
              "<Figure size 432x288 with 1 Axes>"
            ]
          },
          "metadata": {
            "tags": [],
            "needs_background": "light"
          }
        }
      ]
    },
    {
      "cell_type": "code",
      "metadata": {
        "id": "80ZhSjTS_V0p",
        "colab_type": "code",
        "colab": {
          "base_uri": "https://localhost:8080/",
          "height": 589
        },
        "outputId": "57357f2e-169b-40c9-b864-0e69df248d6c"
      },
      "source": [
        "fake[fake.text.apply(lambda x: len(x.split()) < 20)]"
      ],
      "execution_count": 26,
      "outputs": [
        {
          "output_type": "execute_result",
          "data": {
            "text/html": [
              "<div>\n",
              "<style scoped>\n",
              "    .dataframe tbody tr th:only-of-type {\n",
              "        vertical-align: middle;\n",
              "    }\n",
              "\n",
              "    .dataframe tbody tr th {\n",
              "        vertical-align: top;\n",
              "    }\n",
              "\n",
              "    .dataframe thead th {\n",
              "        text-align: right;\n",
              "    }\n",
              "</style>\n",
              "<table border=\"1\" class=\"dataframe\">\n",
              "  <thead>\n",
              "    <tr style=\"text-align: right;\">\n",
              "      <th></th>\n",
              "      <th>title</th>\n",
              "      <th>text</th>\n",
              "      <th>subject</th>\n",
              "      <th>date</th>\n",
              "      <th>num_words</th>\n",
              "    </tr>\n",
              "  </thead>\n",
              "  <tbody>\n",
              "    <tr>\n",
              "      <th>10922</th>\n",
              "      <td>TAKE OUR POLL: Who Do You Think President Trum...</td>\n",
              "      <td></td>\n",
              "      <td>politics</td>\n",
              "      <td>2017-05-10</td>\n",
              "      <td>0</td>\n",
              "    </tr>\n",
              "    <tr>\n",
              "      <th>11040</th>\n",
              "      <td>Joe Scarborough BERATES Mika Brzezinski Over “...</td>\n",
              "      <td></td>\n",
              "      <td>politics</td>\n",
              "      <td>2017-04-26</td>\n",
              "      <td>0</td>\n",
              "    </tr>\n",
              "    <tr>\n",
              "      <th>11116</th>\n",
              "      <td>MY FAVORITE EXCUSES…Featuring Hillary Rotten C...</td>\n",
              "      <td>Enjoy:</td>\n",
              "      <td>politics</td>\n",
              "      <td>2017-04-17</td>\n",
              "      <td>1</td>\n",
              "    </tr>\n",
              "    <tr>\n",
              "      <th>11189</th>\n",
              "      <td>WATCH TUCKER CARLSON Scorch Sanctuary City May...</td>\n",
              "      <td></td>\n",
              "      <td>politics</td>\n",
              "      <td>2017-04-06</td>\n",
              "      <td>0</td>\n",
              "    </tr>\n",
              "    <tr>\n",
              "      <th>11224</th>\n",
              "      <td>MAYOR OF SANCTUARY CITY: Trump Trying To Make ...</td>\n",
              "      <td></td>\n",
              "      <td>politics</td>\n",
              "      <td>2017-04-02</td>\n",
              "      <td>0</td>\n",
              "    </tr>\n",
              "    <tr>\n",
              "      <th>...</th>\n",
              "      <td>...</td>\n",
              "      <td>...</td>\n",
              "      <td>...</td>\n",
              "      <td>...</td>\n",
              "      <td>...</td>\n",
              "    </tr>\n",
              "    <tr>\n",
              "      <th>21819</th>\n",
              "      <td>(VIDEO) HILLARY CLINTON: RELIGIOUS BELIEFS MUS...</td>\n",
              "      <td></td>\n",
              "      <td>left-news</td>\n",
              "      <td>2015-04-25</td>\n",
              "      <td>0</td>\n",
              "    </tr>\n",
              "    <tr>\n",
              "      <th>21849</th>\n",
              "      <td>(VIDEO)ICE PROTECTING OBAMA: WON’T RELEASE NAM...</td>\n",
              "      <td></td>\n",
              "      <td>left-news</td>\n",
              "      <td>2015-04-14</td>\n",
              "      <td>0</td>\n",
              "    </tr>\n",
              "    <tr>\n",
              "      <th>21863</th>\n",
              "      <td>(VIDEO) HYSTERICAL SNL TAKE ON HILLARY’S ANNOU...</td>\n",
              "      <td></td>\n",
              "      <td>left-news</td>\n",
              "      <td>2015-04-12</td>\n",
              "      <td>0</td>\n",
              "    </tr>\n",
              "    <tr>\n",
              "      <th>21872</th>\n",
              "      <td>ONLY IN DETROIT: SQUATTING ON THE SQUATTER TAK...</td>\n",
              "      <td>You won t want to miss this</td>\n",
              "      <td>left-news</td>\n",
              "      <td>2015-04-09</td>\n",
              "      <td>7</td>\n",
              "    </tr>\n",
              "    <tr>\n",
              "      <th>21899</th>\n",
              "      <td>HYSTERICAL VIDEO: SATURDAY NIGHT LIVE DOES CNN</td>\n",
              "      <td>PRETTY FUNNY STUFF-MAKE SURE TO WATCH TO THE END.</td>\n",
              "      <td>left-news</td>\n",
              "      <td>2015-04-05</td>\n",
              "      <td>9</td>\n",
              "    </tr>\n",
              "  </tbody>\n",
              "</table>\n",
              "<p>1121 rows × 5 columns</p>\n",
              "</div>"
            ],
            "text/plain": [
              "                                                   title  ... num_words\n",
              "10922  TAKE OUR POLL: Who Do You Think President Trum...  ...         0\n",
              "11040  Joe Scarborough BERATES Mika Brzezinski Over “...  ...         0\n",
              "11116  MY FAVORITE EXCUSES…Featuring Hillary Rotten C...  ...         1\n",
              "11189  WATCH TUCKER CARLSON Scorch Sanctuary City May...  ...         0\n",
              "11224  MAYOR OF SANCTUARY CITY: Trump Trying To Make ...  ...         0\n",
              "...                                                  ...  ...       ...\n",
              "21819  (VIDEO) HILLARY CLINTON: RELIGIOUS BELIEFS MUS...  ...         0\n",
              "21849  (VIDEO)ICE PROTECTING OBAMA: WON’T RELEASE NAM...  ...         0\n",
              "21863  (VIDEO) HYSTERICAL SNL TAKE ON HILLARY’S ANNOU...  ...         0\n",
              "21872  ONLY IN DETROIT: SQUATTING ON THE SQUATTER TAK...  ...         7\n",
              "21899     HYSTERICAL VIDEO: SATURDAY NIGHT LIVE DOES CNN  ...         9\n",
              "\n",
              "[1121 rows x 5 columns]"
            ]
          },
          "metadata": {
            "tags": []
          },
          "execution_count": 26
        }
      ]
    },
    {
      "cell_type": "code",
      "metadata": {
        "id": "ESQd40n7Klim",
        "colab_type": "code",
        "colab": {}
      },
      "source": [
        "fake.drop(fake[fake.text.apply(lambda x: len(x.split()) < 20)].index, inplace=True)\n",
        "fake.reset_index(drop=True, inplace=True)"
      ],
      "execution_count": 27,
      "outputs": []
    },
    {
      "cell_type": "markdown",
      "metadata": {
        "id": "9Ak-bbN_aQGM",
        "colab_type": "text"
      },
      "source": [
        "* Si visualizzano alcune info sul dataset e poi si ordinano le gli articoli per data di pubblicazione in ordine decrescente."
      ]
    },
    {
      "cell_type": "code",
      "metadata": {
        "id": "-LwAl7H_1RKA",
        "colab_type": "code",
        "colab": {
          "base_uri": "https://localhost:8080/",
          "height": 221
        },
        "outputId": "23010357-7273-4971-d9d7-0f9f498add6a"
      },
      "source": [
        "fake.info()"
      ],
      "execution_count": 28,
      "outputs": [
        {
          "output_type": "stream",
          "text": [
            "<class 'pandas.core.frame.DataFrame'>\n",
            "RangeIndex: 22350 entries, 0 to 22349\n",
            "Data columns (total 5 columns):\n",
            " #   Column     Non-Null Count  Dtype         \n",
            "---  ------     --------------  -----         \n",
            " 0   title      22350 non-null  object        \n",
            " 1   text       22350 non-null  object        \n",
            " 2   subject    22350 non-null  object        \n",
            " 3   date       22350 non-null  datetime64[ns]\n",
            " 4   num_words  22350 non-null  int64         \n",
            "dtypes: datetime64[ns](1), int64(1), object(3)\n",
            "memory usage: 873.2+ KB\n"
          ],
          "name": "stdout"
        }
      ]
    },
    {
      "cell_type": "code",
      "metadata": {
        "id": "ZnHzPA-J3QPY",
        "colab_type": "code",
        "colab": {}
      },
      "source": [
        "fake.sort_values(by=['date'], inplace=True, ignore_index=True, ascending=False)"
      ],
      "execution_count": 29,
      "outputs": []
    },
    {
      "cell_type": "code",
      "metadata": {
        "id": "U6WNuJIP3SFv",
        "colab_type": "code",
        "colab": {
          "base_uri": "https://localhost:8080/",
          "height": 289
        },
        "outputId": "97025cae-b11b-4435-df69-ec6044ed35d1"
      },
      "source": [
        "fake.head(5)"
      ],
      "execution_count": 30,
      "outputs": [
        {
          "output_type": "execute_result",
          "data": {
            "text/html": [
              "<div>\n",
              "<style scoped>\n",
              "    .dataframe tbody tr th:only-of-type {\n",
              "        vertical-align: middle;\n",
              "    }\n",
              "\n",
              "    .dataframe tbody tr th {\n",
              "        vertical-align: top;\n",
              "    }\n",
              "\n",
              "    .dataframe thead th {\n",
              "        text-align: right;\n",
              "    }\n",
              "</style>\n",
              "<table border=\"1\" class=\"dataframe\">\n",
              "  <thead>\n",
              "    <tr style=\"text-align: right;\">\n",
              "      <th></th>\n",
              "      <th>title</th>\n",
              "      <th>text</th>\n",
              "      <th>subject</th>\n",
              "      <th>date</th>\n",
              "      <th>num_words</th>\n",
              "    </tr>\n",
              "  </thead>\n",
              "  <tbody>\n",
              "    <tr>\n",
              "      <th>0</th>\n",
              "      <td>MSNBC ANCHOR Flabbergasted at What Texas Teach...</td>\n",
              "      <td>If we protect every other government building ...</td>\n",
              "      <td>politics</td>\n",
              "      <td>2018-02-19</td>\n",
              "      <td>220</td>\n",
              "    </tr>\n",
              "    <tr>\n",
              "      <th>1</th>\n",
              "      <td>WATCH: SNOWFLAKES ASKED Communist Party Platfo...</td>\n",
              "      <td>Ami Horowitz is fantastic! Check out this man ...</td>\n",
              "      <td>politics</td>\n",
              "      <td>2018-02-19</td>\n",
              "      <td>137</td>\n",
              "    </tr>\n",
              "    <tr>\n",
              "      <th>2</th>\n",
              "      <td>Democrat Senator Warns Mueller Not To Release ...</td>\n",
              "      <td>According to The Hill, Democrat Senator Bob Ca...</td>\n",
              "      <td>politics</td>\n",
              "      <td>2018-02-19</td>\n",
              "      <td>181</td>\n",
              "    </tr>\n",
              "    <tr>\n",
              "      <th>3</th>\n",
              "      <td>JUST IN: BADASS GENERAL JOHN KELLY Shoved Chin...</td>\n",
              "      <td>Just one more reminder of why President Trump ...</td>\n",
              "      <td>politics</td>\n",
              "      <td>2018-02-18</td>\n",
              "      <td>183</td>\n",
              "    </tr>\n",
              "    <tr>\n",
              "      <th>4</th>\n",
              "      <td>DOJ’s JEFF SESSIONS Opens Investigation Into W...</td>\n",
              "      <td>Thank goodnesss Jeff Sessions is moving on fin...</td>\n",
              "      <td>politics</td>\n",
              "      <td>2018-02-18</td>\n",
              "      <td>201</td>\n",
              "    </tr>\n",
              "  </tbody>\n",
              "</table>\n",
              "</div>"
            ],
            "text/plain": [
              "                                               title  ... num_words\n",
              "0  MSNBC ANCHOR Flabbergasted at What Texas Teach...  ...       220\n",
              "1  WATCH: SNOWFLAKES ASKED Communist Party Platfo...  ...       137\n",
              "2  Democrat Senator Warns Mueller Not To Release ...  ...       181\n",
              "3  JUST IN: BADASS GENERAL JOHN KELLY Shoved Chin...  ...       183\n",
              "4  DOJ’s JEFF SESSIONS Opens Investigation Into W...  ...       201\n",
              "\n",
              "[5 rows x 5 columns]"
            ]
          },
          "metadata": {
            "tags": []
          },
          "execution_count": 30
        }
      ]
    },
    {
      "cell_type": "markdown",
      "metadata": {
        "id": "YSH_8mdFgDl8",
        "colab_type": "text"
      },
      "source": [
        "## Analisi esplorativa\n",
        "* Viene effettuata l'analisi esplorativa del dataset per comprenderne le caratteristiche ed eventuali problematiche.\n",
        "* Per prima cosa si osserva la distribuzione del numero di articoli in `fake` e in `true` in relazione alla data di pubblicazione, le due distribuzioni vengono messe a confronto in uno stesso grafico.\n",
        "* Buona parte degli articoli di entrambe le categorie sono stati pubblicati nel medesimo periodo. Per i valori estremi della linea temporale ci sono tuttavia delle disparità nelle due distribuzioni."
      ]
    },
    {
      "cell_type": "code",
      "metadata": {
        "id": "jFlXLQKR1D_D",
        "colab_type": "code",
        "colab": {
          "base_uri": "https://localhost:8080/",
          "height": 279
        },
        "outputId": "a11b9856-6c14-434b-cc23-f2126a379378"
      },
      "source": [
        "plt.hist([fake.date, true.date], bins=20,  label=['true', 'fake'])\n",
        "plt.xlabel('Dates')\n",
        "plt.ylabel('Frequency')\n",
        "plt.legend()\n",
        "plt.show()"
      ],
      "execution_count": 31,
      "outputs": [
        {
          "output_type": "display_data",
          "data": {
            "image/png": "[encoded data removed]",
            "text/plain": [
              "<Figure size 432x288 with 1 Axes>"
            ]
          },
          "metadata": {
            "tags": [],
            "needs_background": "light"
          }
        }
      ]
    },
    {
      "cell_type": "markdown",
      "metadata": {
        "id": "J2xQOB4rj_6-",
        "colab_type": "text"
      },
      "source": [
        "* Si studia la differenza tra le categorie di notizie vere e false nel numero di caratteri in maiuscolo presenti nel titolo.\n",
        "* E' sostanziale la differenza tra le due categorie nella percentuale di caratteri in maiuscolo presenti nel titolo di ciascun articolo.\n",
        "* Sebbene questo sia un dato su cui potersi basare per migliorare l'efficacia della predizione, non sarà una feature utilizzata in seguito nei modelli di classificazione, in quanto si desidera incentrare la classificazione sulle parole.\n",
        "* Il titolo degli articoli in `fake` ha mediamente più del 25% dei caratteri in maiuscolo, contro il solo 3/4% per il titolo degli articoli in `true`."
      ]
    },
    {
      "cell_type": "code",
      "metadata": {
        "id": "VOJZBIqZ2KnG",
        "colab_type": "code",
        "colab": {}
      },
      "source": [
        "fake['uppercase'] = fake.title.apply(lambda title: sum(1 for c in title if c.isupper()))"
      ],
      "execution_count": 32,
      "outputs": []
    },
    {
      "cell_type": "code",
      "metadata": {
        "id": "ADBdb8g54Q42",
        "colab_type": "code",
        "colab": {
          "base_uri": "https://localhost:8080/",
          "height": 34
        },
        "outputId": "15451157-484a-4ec2-fd01-4b297a2f6833"
      },
      "source": [
        "fake['uppercase'].mean() / 100"
      ],
      "execution_count": 33,
      "outputs": [
        {
          "output_type": "execute_result",
          "data": {
            "text/plain": [
              "0.2756496644295302"
            ]
          },
          "metadata": {
            "tags": []
          },
          "execution_count": 33
        }
      ]
    },
    {
      "cell_type": "code",
      "metadata": {
        "id": "C50tRYYb4fTj",
        "colab_type": "code",
        "colab": {}
      },
      "source": [
        "true['uppercase'] = true.title.apply(lambda title: sum(1 for c in title if c.isupper()))"
      ],
      "execution_count": 34,
      "outputs": []
    },
    {
      "cell_type": "code",
      "metadata": {
        "id": "ZAwIk_G64t1d",
        "colab_type": "code",
        "colab": {
          "base_uri": "https://localhost:8080/",
          "height": 34
        },
        "outputId": "de8db331-c718-4380-d8e3-a8832c7bbbfb"
      },
      "source": [
        "true['uppercase'].mean() / 100"
      ],
      "execution_count": 35,
      "outputs": [
        {
          "output_type": "execute_result",
          "data": {
            "text/plain": [
              "0.035520171834142696"
            ]
          },
          "metadata": {
            "tags": []
          },
          "execution_count": 35
        }
      ]
    },
    {
      "cell_type": "markdown",
      "metadata": {
        "id": "PuVfGiiFl4Hu",
        "colab_type": "text"
      },
      "source": [
        "* Vengono mostrati i grafici relativi alla distribuzione dei valori nel campo `subject` dei due dataset.\n",
        "* Il campo in questione non ha molta rilevanza in quanto non c'è coerenza tra i valori presenti nei due DataFrame. Questo attributo sarà conseguentemente ignorato in seguito."
      ]
    },
    {
      "cell_type": "code",
      "metadata": {
        "id": "7EeRAjXu4vLm",
        "colab_type": "code",
        "colab": {
          "base_uri": "https://localhost:8080/",
          "height": 399
        },
        "outputId": "1ff01867-5fce-401a-8aa7-d109e1017050"
      },
      "source": [
        "plt.bar(fake.subject.value_counts().index, fake.subject.value_counts())\n",
        "plt.xlabel('Subjects')\n",
        "plt.ylabel('Frequency')\n",
        "plt.show()\n",
        "fake.subject.value_counts()"
      ],
      "execution_count": 36,
      "outputs": [
        {
          "output_type": "display_data",
          "data": {
            "image/png": "[encoded data removed]",
            "text/plain": [
              "<Figure size 432x288 with 1 Axes>"
            ]
          },
          "metadata": {
            "tags": [],
            "needs_background": "light"
          }
        },
        {
          "output_type": "execute_result",
          "data": {
            "text/plain": [
              "News               9050\n",
              "politics           6111\n",
              "left-news          4187\n",
              "Government News    1441\n",
              "US_News             783\n",
              "Middle-east         778\n",
              "Name: subject, dtype: int64"
            ]
          },
          "metadata": {
            "tags": []
          },
          "execution_count": 36
        }
      ]
    },
    {
      "cell_type": "code",
      "metadata": {
        "id": "8cW2kx1A61Ma",
        "colab_type": "code",
        "colab": {
          "base_uri": "https://localhost:8080/",
          "height": 330
        },
        "outputId": "4d1df10c-632a-4cb5-84ac-67c5c27a3dd8"
      },
      "source": [
        "plt.bar(true.subject.value_counts().index, true.subject.value_counts())\n",
        "plt.xlabel('Subjects')\n",
        "plt.ylabel('Frequency')\n",
        "plt.show()\n",
        "true.subject.value_counts()"
      ],
      "execution_count": 37,
      "outputs": [
        {
          "output_type": "display_data",
          "data": {
            "image/png": "[encoded data removed]",
            "text/plain": [
              "<Figure size 432x288 with 1 Axes>"
            ]
          },
          "metadata": {
            "tags": [],
            "needs_background": "light"
          }
        },
        {
          "output_type": "execute_result",
          "data": {
            "text/plain": [
              "politicsNews    11271\n",
              "worldnews       10145\n",
              "Name: subject, dtype: int64"
            ]
          },
          "metadata": {
            "tags": []
          },
          "execution_count": 37
        }
      ]
    },
    {
      "cell_type": "markdown",
      "metadata": {
        "id": "crv5E83omUws",
        "colab_type": "text"
      },
      "source": [
        "### Lunghezza articoli e frequenza parole\n",
        "* Vengono di seguito analizzate le distribuzioni del numero di parole nel testo degli articoli e degli (1-2-3)-ngrammi più frequenti, per entrambe le classi."
      ]
    },
    {
      "cell_type": "code",
      "metadata": {
        "id": "GgdUwE9T63zq",
        "colab_type": "code",
        "colab": {
          "base_uri": "https://localhost:8080/",
          "height": 350
        },
        "outputId": "2bfce0a9-65dc-434f-ece9-491b1d889871"
      },
      "source": [
        "fig, ax = plt.subplots(1, 2, figsize=(15,5))\n",
        "ax[0].hist(fake[\"num_words\"], bins=100, label='fake')\n",
        "ax[0].hist(true[\"num_words\"], bins=100, label='true')\n",
        "ax[0].set(xlim = (0, 3000), xlabel='Count')\n",
        "ax[0].set_title('Distribuzione del numero di parole nel testo degli articoli')\n",
        "ax[1].hist([true[\"num_words\"], fake[\"num_words\"]], bins=100,label=['fake', 'true'])\n",
        "ax[1].set(xlim = (0, 1500), xlabel='Count')\n",
        "ax[1].set_title('Ingrandito - Distribuzione del numero di parole nel testo degli articoli')\n",
        "fig.show()"
      ],
      "execution_count": 38,
      "outputs": [
        {
          "output_type": "display_data",
          "data": {
            "image/png": "[encoded data removed]",
            "text/plain": [
              "<Figure size 1080x360 with 2 Axes>"
            ]
          },
          "metadata": {
            "tags": [],
            "needs_background": "light"
          }
        }
      ]
    },
    {
      "cell_type": "markdown",
      "metadata": {
        "id": "CJw8mGLDdn88",
        "colab_type": "text"
      },
      "source": [
        "* La distribuzione degli (1-2-3)-ngrammi più frequenti per ciascuna classe permette di capire quali sono i concetti più ricorrenti nel corpus."
      ]
    },
    {
      "cell_type": "code",
      "metadata": {
        "id": "HO2Qojjq5-lo",
        "colab_type": "code",
        "colab": {
          "base_uri": "https://localhost:8080/",
          "height": 1000
        },
        "outputId": "777e58c6-d0af-40f8-d6d0-b8a5d11b22be"
      },
      "source": [
        "# tempo di esecuzione alto\n",
        "n = 20\n",
        "fig = make_subplots(rows=3, cols=1, vertical_spacing=0.1, subplot_titles=\n",
        "                    ('Top {} unigrams'.format(n),\n",
        "                     'Top {} bigrams'.format(n),\n",
        "                     'Top {} trigrams'.format(n)\n",
        "))\n",
        "for i in range(1,4):\n",
        "    vec = CountVectorizer(stop_words='english', ngram_range=(i,i), lowercase=True).fit(true['text'])\n",
        "    bag_of_words = vec.transform(true['text'])\n",
        "    sum_words = bag_of_words.sum(axis=0) \n",
        "    words_freq = [(word, sum_words[0, idx]) for word, idx in vec.vocabulary_.items()]\n",
        "    words_freq = sorted(words_freq, key = lambda x: x[1], reverse=True)[:n]\n",
        "    df_plot = pd.DataFrame(words_freq, columns = ['ngram' , 'count'])\n",
        "    fig.add_trace( go.Bar( x=df_plot['ngram'], y=df_plot['count'] ), row=i, col=1 )\n",
        "    fig.update_xaxes(title_text=\"Words\", row=i, col=1)\n",
        "    fig.update_yaxes(title_text=\"Frequency\", row=i, col=1)\n",
        "fig.update_layout(height=1536, title_text='Distribuzione ngrammi più comuni per la classe True')\n",
        "fig.show()"
      ],
      "execution_count": 39,
      "outputs": [
        {
          "output_type": "display_data",
          "data": {
            "text/html": [
              "<html>\n",
              "<head><meta charset=\"utf-8\" /></head>\n",
              "<body>\n",
              "    <div>\n",
              "            <script src=\"https://cdnjs.cloudflare.com/ajax/libs/mathjax/2.7.5/MathJax.js?config=TeX-AMS-MML_SVG\"></script><script type=\"text/javascript\">if (window.MathJax) {MathJax.Hub.Config({SVG: {font: \"STIX-Web\"}});}</script>\n",
              "                <script type=\"text/javascript\">window.PlotlyConfig = {MathJaxConfig: 'local'};</script>\n",
              "        <script src=\"https://cdn.plot.ly/plotly-latest.min.js\"></script>    \n",
              "            <div id=\"9faa995b-5fde-4a05-8f54-afe74f35f74d\" class=\"plotly-graph-div\" style=\"height:1536px; width:100%;\"></div>\n",
              "            <script type=\"text/javascript\">\n",
              "                \n",
              "                    window.PLOTLYENV=window.PLOTLYENV || {};\n",
              "                    \n",
              "                if (document.getElementById(\"9faa995b-5fde-4a05-8f54-afe74f35f74d\")) {\n",
              "                    Plotly.newPlot(\n",
              "                        '9faa995b-5fde-4a05-8f54-afe74f35f74d',\n",
              "                        [{\"type\": \"bar\", \"x\": [\"said\", \"trump\", \"reuters\", \"president\", \"state\", \"government\", \"new\", \"states\", \"house\", \"republican\", \"united\", \"people\", \"year\", \"told\", \"washington\", \"party\", \"election\", \"campaign\", \"donald\", \"security\"], \"xaxis\": \"x\", \"y\": [99062, 54700, 28976, 28177, 21025, 18846, 16917, 16652, 16640, 16243, 15590, 15287, 14777, 14245, 12988, 12759, 12306, 10636, 10456, 10162], \"yaxis\": \"y\"}, {\"type\": \"bar\", \"x\": [\"united states\", \"donald trump\", \"white house\", \"washington reuters\", \"president donald\", \"north korea\", \"new york\", \"prime minister\", \"said statement\", \"trump said\", \"told reuters\", \"islamic state\", \"barack obama\", \"told reporters\", \"president barack\", \"hillary clinton\", \"supreme court\", \"trump administration\", \"reuters president\", \"united nations\"], \"xaxis\": \"x2\", \"y\": [12204, 10168, 8419, 6674, 5930, 5659, 4740, 4163, 3933, 3551, 3495, 3477, 3344, 3176, 2958, 2499, 2478, 2459, 2390, 2312], \"yaxis\": \"y2\"}, {\"type\": \"bar\", \"x\": [\"president donald trump\", \"president barack obama\", \"reuters president donald\", \"washington reuters president\", \"white house said\", \"new york reuters\", \"elect donald trump\", \"president elect donald\", \"president vladimir putin\", \"state rex tillerson\", \"secretary state rex\", \"national security adviser\", \"russian president vladimir\", \"speaker paul ryan\", \"prime minister theresa\", \"donald trump said\", \"chancellor angela merkel\", \"leader mitch mcconnell\", \"democratic president barack\", \"new york times\"], \"xaxis\": \"x3\", \"y\": [5869, 2958, 1562, 1531, 967, 845, 834, 832, 790, 673, 672, 619, 613, 608, 584, 570, 570, 568, 550, 528], \"yaxis\": \"y3\"}],\n",
              "                        {\"annotations\": [{\"font\": {\"size\": 16}, \"showarrow\": false, \"text\": \"Top 20 unigrams\", \"x\": 0.5, \"xanchor\": \"center\", \"xref\": \"paper\", \"y\": 1.0, \"yanchor\": \"bottom\", \"yref\": \"paper\"}, {\"font\": {\"size\": 16}, \"showarrow\": false, \"text\": \"Top 20 bigrams\", \"x\": 0.5, \"xanchor\": \"center\", \"xref\": \"paper\", \"y\": 0.6333333333333333, \"yanchor\": \"bottom\", \"yref\": \"paper\"}, {\"font\": {\"size\": 16}, \"showarrow\": false, \"text\": \"Top 20 trigrams\", \"x\": 0.5, \"xanchor\": \"center\", \"xref\": \"paper\", \"y\": 0.26666666666666666, \"yanchor\": \"bottom\", \"yref\": \"paper\"}], \"height\": 1536, \"template\": {\"data\": {\"bar\": [{\"error_x\": {\"color\": \"#2a3f5f\"}, \"error_y\": {\"color\": \"#2a3f5f\"}, \"marker\": {\"line\": {\"color\": \"#E5ECF6\", \"width\": 0.5}}, \"type\": \"bar\"}], \"barpolar\": [{\"marker\": {\"line\": {\"color\": \"#E5ECF6\", \"width\": 0.5}}, \"type\": \"barpolar\"}], \"carpet\": [{\"aaxis\": {\"endlinecolor\": \"#2a3f5f\", \"gridcolor\": \"white\", \"linecolor\": \"white\", \"minorgridcolor\": \"white\", \"startlinecolor\": \"#2a3f5f\"}, \"baxis\": {\"endlinecolor\": \"#2a3f5f\", \"gridcolor\": \"white\", \"linecolor\": \"white\", \"minorgridcolor\": \"white\", \"startlinecolor\": \"#2a3f5f\"}, \"type\": \"carpet\"}], \"choropleth\": [{\"colorbar\": {\"outlinewidth\": 0, \"ticks\": \"\"}, \"type\": \"choropleth\"}], \"contour\": [{\"colorbar\": {\"outlinewidth\": 0, \"ticks\": \"\"}, \"colorscale\": [[0.0, \"#0d0887\"], [0.1111111111111111, \"#46039f\"], [0.2222222222222222, \"#7201a8\"], [0.3333333333333333, \"#9c179e\"], [0.4444444444444444, \"#bd3786\"], [0.5555555555555556, \"#d8576b\"], [0.6666666666666666, \"#ed7953\"], [0.7777777777777778, \"#fb9f3a\"], [0.8888888888888888, \"#fdca26\"], [1.0, \"#f0f921\"]], \"type\": \"contour\"}], \"contourcarpet\": [{\"colorbar\": {\"outlinewidth\": 0, \"ticks\": \"\"}, \"type\": \"contourcarpet\"}], \"heatmap\": [{\"colorbar\": {\"outlinewidth\": 0, \"ticks\": \"\"}, \"colorscale\": [[0.0, \"#0d0887\"], [0.1111111111111111, \"#46039f\"], [0.2222222222222222, \"#7201a8\"], [0.3333333333333333, \"#9c179e\"], [0.4444444444444444, \"#bd3786\"], [0.5555555555555556, \"#d8576b\"], [0.6666666666666666, \"#ed7953\"], [0.7777777777777778, \"#fb9f3a\"], [0.8888888888888888, \"#fdca26\"], [1.0, \"#f0f921\"]], \"type\": \"heatmap\"}], \"heatmapgl\": [{\"colorbar\": {\"outlinewidth\": 0, \"ticks\": \"\"}, \"colorscale\": [[0.0, \"#0d0887\"], [0.1111111111111111, \"#46039f\"], [0.2222222222222222, \"#7201a8\"], [0.3333333333333333, \"#9c179e\"], [0.4444444444444444, \"#bd3786\"], [0.5555555555555556, \"#d8576b\"], [0.6666666666666666, \"#ed7953\"], [0.7777777777777778, \"#fb9f3a\"], [0.8888888888888888, \"#fdca26\"], [1.0, \"#f0f921\"]], \"type\": \"heatmapgl\"}], \"histogram\": [{\"marker\": {\"colorbar\": {\"outlinewidth\": 0, \"ticks\": \"\"}}, \"type\": \"histogram\"}], \"histogram2d\": [{\"colorbar\": {\"outlinewidth\": 0, \"ticks\": \"\"}, \"colorscale\": [[0.0, \"#0d0887\"], [0.1111111111111111, \"#46039f\"], [0.2222222222222222, \"#7201a8\"], [0.3333333333333333, \"#9c179e\"], [0.4444444444444444, \"#bd3786\"], [0.5555555555555556, \"#d8576b\"], [0.6666666666666666, \"#ed7953\"], [0.7777777777777778, \"#fb9f3a\"], [0.8888888888888888, \"#fdca26\"], [1.0, \"#f0f921\"]], \"type\": \"histogram2d\"}], \"histogram2dcontour\": [{\"colorbar\": {\"outlinewidth\": 0, \"ticks\": \"\"}, \"colorscale\": [[0.0, \"#0d0887\"], [0.1111111111111111, \"#46039f\"], [0.2222222222222222, \"#7201a8\"], [0.3333333333333333, \"#9c179e\"], [0.4444444444444444, \"#bd3786\"], [0.5555555555555556, \"#d8576b\"], [0.6666666666666666, \"#ed7953\"], [0.7777777777777778, \"#fb9f3a\"], [0.8888888888888888, \"#fdca26\"], [1.0, \"#f0f921\"]], \"type\": \"histogram2dcontour\"}], \"mesh3d\": [{\"colorbar\": {\"outlinewidth\": 0, \"ticks\": \"\"}, \"type\": \"mesh3d\"}], \"parcoords\": [{\"line\": {\"colorbar\": {\"outlinewidth\": 0, \"ticks\": \"\"}}, \"type\": \"parcoords\"}], \"pie\": [{\"automargin\": true, \"type\": \"pie\"}], \"scatter\": [{\"marker\": {\"colorbar\": {\"outlinewidth\": 0, \"ticks\": \"\"}}, \"type\": \"scatter\"}], \"scatter3d\": [{\"line\": {\"colorbar\": {\"outlinewidth\": 0, \"ticks\": \"\"}}, \"marker\": {\"colorbar\": {\"outlinewidth\": 0, \"ticks\": \"\"}}, \"type\": \"scatter3d\"}], \"scattercarpet\": [{\"marker\": {\"colorbar\": {\"outlinewidth\": 0, \"ticks\": \"\"}}, \"type\": \"scattercarpet\"}], \"scattergeo\": [{\"marker\": {\"colorbar\": {\"outlinewidth\": 0, \"ticks\": \"\"}}, \"type\": \"scattergeo\"}], \"scattergl\": [{\"marker\": {\"colorbar\": {\"outlinewidth\": 0, \"ticks\": \"\"}}, \"type\": \"scattergl\"}], \"scattermapbox\": [{\"marker\": {\"colorbar\": {\"outlinewidth\": 0, \"ticks\": \"\"}}, \"type\": \"scattermapbox\"}], \"scatterpolar\": [{\"marker\": {\"colorbar\": {\"outlinewidth\": 0, \"ticks\": \"\"}}, \"type\": \"scatterpolar\"}], \"scatterpolargl\": [{\"marker\": {\"colorbar\": {\"outlinewidth\": 0, \"ticks\": \"\"}}, \"type\": \"scatterpolargl\"}], \"scatterternary\": [{\"marker\": {\"colorbar\": {\"outlinewidth\": 0, \"ticks\": \"\"}}, \"type\": \"scatterternary\"}], \"surface\": [{\"colorbar\": {\"outlinewidth\": 0, \"ticks\": \"\"}, \"colorscale\": [[0.0, \"#0d0887\"], [0.1111111111111111, \"#46039f\"], [0.2222222222222222, \"#7201a8\"], [0.3333333333333333, \"#9c179e\"], [0.4444444444444444, \"#bd3786\"], [0.5555555555555556, \"#d8576b\"], [0.6666666666666666, \"#ed7953\"], [0.7777777777777778, \"#fb9f3a\"], [0.8888888888888888, \"#fdca26\"], [1.0, \"#f0f921\"]], \"type\": \"surface\"}], \"table\": [{\"cells\": {\"fill\": {\"color\": \"#EBF0F8\"}, \"line\": {\"color\": \"white\"}}, \"header\": {\"fill\": {\"color\": \"#C8D4E3\"}, \"line\": {\"color\": \"white\"}}, \"type\": \"table\"}]}, \"layout\": {\"annotationdefaults\": {\"arrowcolor\": \"#2a3f5f\", \"arrowhead\": 0, \"arrowwidth\": 1}, \"coloraxis\": {\"colorbar\": {\"outlinewidth\": 0, \"ticks\": \"\"}}, \"colorscale\": {\"diverging\": [[0, \"#8e0152\"], [0.1, \"#c51b7d\"], [0.2, \"#de77ae\"], [0.3, \"#f1b6da\"], [0.4, \"#fde0ef\"], [0.5, \"#f7f7f7\"], [0.6, \"#e6f5d0\"], [0.7, \"#b8e186\"], [0.8, \"#7fbc41\"], [0.9, \"#4d9221\"], [1, \"#276419\"]], \"sequential\": [[0.0, \"#0d0887\"], [0.1111111111111111, \"#46039f\"], [0.2222222222222222, \"#7201a8\"], [0.3333333333333333, \"#9c179e\"], [0.4444444444444444, \"#bd3786\"], [0.5555555555555556, \"#d8576b\"], [0.6666666666666666, \"#ed7953\"], [0.7777777777777778, \"#fb9f3a\"], [0.8888888888888888, \"#fdca26\"], [1.0, \"#f0f921\"]], \"sequentialminus\": [[0.0, \"#0d0887\"], [0.1111111111111111, \"#46039f\"], [0.2222222222222222, \"#7201a8\"], [0.3333333333333333, \"#9c179e\"], [0.4444444444444444, \"#bd3786\"], [0.5555555555555556, \"#d8576b\"], [0.6666666666666666, \"#ed7953\"], [0.7777777777777778, \"#fb9f3a\"], [0.8888888888888888, \"#fdca26\"], [1.0, \"#f0f921\"]]}, \"colorway\": [\"#636efa\", \"#EF553B\", \"#00cc96\", \"#ab63fa\", \"#FFA15A\", \"#19d3f3\", \"#FF6692\", \"#B6E880\", \"#FF97FF\", \"#FECB52\"], \"font\": {\"color\": \"#2a3f5f\"}, \"geo\": {\"bgcolor\": \"white\", \"lakecolor\": \"white\", \"landcolor\": \"#E5ECF6\", \"showlakes\": true, \"showland\": true, \"subunitcolor\": \"white\"}, \"hoverlabel\": {\"align\": \"left\"}, \"hovermode\": \"closest\", \"mapbox\": {\"style\": \"light\"}, \"paper_bgcolor\": \"white\", \"plot_bgcolor\": \"#E5ECF6\", \"polar\": {\"angularaxis\": {\"gridcolor\": \"white\", \"linecolor\": \"white\", \"ticks\": \"\"}, \"bgcolor\": \"#E5ECF6\", \"radialaxis\": {\"gridcolor\": \"white\", \"linecolor\": \"white\", \"ticks\": \"\"}}, \"scene\": {\"xaxis\": {\"backgroundcolor\": \"#E5ECF6\", \"gridcolor\": \"white\", \"gridwidth\": 2, \"linecolor\": \"white\", \"showbackground\": true, \"ticks\": \"\", \"zerolinecolor\": \"white\"}, \"yaxis\": {\"backgroundcolor\": \"#E5ECF6\", \"gridcolor\": \"white\", \"gridwidth\": 2, \"linecolor\": \"white\", \"showbackground\": true, \"ticks\": \"\", \"zerolinecolor\": \"white\"}, \"zaxis\": {\"backgroundcolor\": \"#E5ECF6\", \"gridcolor\": \"white\", \"gridwidth\": 2, \"linecolor\": \"white\", \"showbackground\": true, \"ticks\": \"\", \"zerolinecolor\": \"white\"}}, \"shapedefaults\": {\"line\": {\"color\": \"#2a3f5f\"}}, \"ternary\": {\"aaxis\": {\"gridcolor\": \"white\", \"linecolor\": \"white\", \"ticks\": \"\"}, \"baxis\": {\"gridcolor\": \"white\", \"linecolor\": \"white\", \"ticks\": \"\"}, \"bgcolor\": \"#E5ECF6\", \"caxis\": {\"gridcolor\": \"white\", \"linecolor\": \"white\", \"ticks\": \"\"}}, \"title\": {\"x\": 0.05}, \"xaxis\": {\"automargin\": true, \"gridcolor\": \"white\", \"linecolor\": \"white\", \"ticks\": \"\", \"title\": {\"standoff\": 15}, \"zerolinecolor\": \"white\", \"zerolinewidth\": 2}, \"yaxis\": {\"automargin\": true, \"gridcolor\": \"white\", \"linecolor\": \"white\", \"ticks\": \"\", \"title\": {\"standoff\": 15}, \"zerolinecolor\": \"white\", \"zerolinewidth\": 2}}}, \"title\": {\"text\": \"Distribuzione ngrammi pi\\u00f9 comuni per la classe True\"}, \"xaxis\": {\"anchor\": \"y\", \"domain\": [0.0, 1.0], \"title\": {\"text\": \"Words\"}}, \"xaxis2\": {\"anchor\": \"y2\", \"domain\": [0.0, 1.0], \"title\": {\"text\": \"Words\"}}, \"xaxis3\": {\"anchor\": \"y3\", \"domain\": [0.0, 1.0], \"title\": {\"text\": \"Words\"}}, \"yaxis\": {\"anchor\": \"x\", \"domain\": [0.7333333333333334, 1.0], \"title\": {\"text\": \"Frequency\"}}, \"yaxis2\": {\"anchor\": \"x2\", \"domain\": [0.3666666666666667, 0.6333333333333333], \"title\": {\"text\": \"Frequency\"}}, \"yaxis3\": {\"anchor\": \"x3\", \"domain\": [0.0, 0.26666666666666666], \"title\": {\"text\": \"Frequency\"}}},\n",
              "                        {\"responsive\": true}\n",
              "                    ).then(function(){\n",
              "                            \n",
              "var gd = document.getElementById('9faa995b-5fde-4a05-8f54-afe74f35f74d');\n",
              "var x = new MutationObserver(function (mutations, observer) {{\n",
              "        var display = window.getComputedStyle(gd).display;\n",
              "        if (!display || display === 'none') {{\n",
              "            console.log([gd, 'removed!']);\n",
              "            Plotly.purge(gd);\n",
              "            observer.disconnect();\n",
              "        }}\n",
              "}});\n",
              "\n",
              "// Listen for the removal of the full notebook cells\n",
              "var notebookContainer = gd.closest('#notebook-container');\n",
              "if (notebookContainer) {{\n",
              "    x.observe(notebookContainer, {childList: true});\n",
              "}}\n",
              "\n",
              "// Listen for the clearing of the current output cell\n",
              "var outputEl = gd.closest('.output');\n",
              "if (outputEl) {{\n",
              "    x.observe(outputEl, {childList: true});\n",
              "}}\n",
              "\n",
              "                        })\n",
              "                };\n",
              "                \n",
              "            </script>\n",
              "        </div>\n",
              "</body>\n",
              "</html>"
            ]
          },
          "metadata": {
            "tags": []
          }
        }
      ]
    },
    {
      "cell_type": "code",
      "metadata": {
        "id": "SG7PQ--ZEL09",
        "colab_type": "code",
        "colab": {
          "base_uri": "https://localhost:8080/",
          "height": 1000
        },
        "outputId": "9b9afdfe-9bd5-489a-e0b3-0c6be53a2b11"
      },
      "source": [
        "# tempo di esecuzione alto\n",
        "n = 20\n",
        "fig = make_subplots(rows=3, cols=1, vertical_spacing=0.1, subplot_titles=\n",
        "                    ('Top {} unigrams'.format(n),\n",
        "                     'Top {} bigrams'.format(n),\n",
        "                     'Top {} trigrams'.format(n)\n",
        "))\n",
        "for i in range(1,4):\n",
        "    vec = CountVectorizer(stop_words='english', ngram_range=(i,i), lowercase=True).fit(fake['text'])\n",
        "    bag_of_words = vec.transform(fake['text'])\n",
        "    sum_words = bag_of_words.sum(axis=0) \n",
        "    words_freq = [(word, sum_words[0, idx]) for word, idx in vec.vocabulary_.items()]\n",
        "    words_freq = sorted(words_freq, key = lambda x: x[1], reverse=True)[:n]\n",
        "    df_plot = pd.DataFrame(words_freq, columns = ['ngram' , 'count'])\n",
        "    fig.add_trace( go.Bar( x=df_plot['ngram'], y=df_plot['count'] ), row=i, col=1 )\n",
        "    fig.update_xaxes(title_text=\"Words\", row=i, col=1)\n",
        "    fig.update_yaxes(title_text=\"Frequency\", row=i, col=1)\n",
        "fig.update_layout(height=1536, title_text='Distribuzione ngrammi più comuni per la classe Fake')\n",
        "fig.show()"
      ],
      "execution_count": 40,
      "outputs": [
        {
          "output_type": "display_data",
          "data": {
            "text/html": [
              "<html>\n",
              "<head><meta charset=\"utf-8\" /></head>\n",
              "<body>\n",
              "    <div>\n",
              "            <script src=\"https://cdnjs.cloudflare.com/ajax/libs/mathjax/2.7.5/MathJax.js?config=TeX-AMS-MML_SVG\"></script><script type=\"text/javascript\">if (window.MathJax) {MathJax.Hub.Config({SVG: {font: \"STIX-Web\"}});}</script>\n",
              "                <script type=\"text/javascript\">window.PlotlyConfig = {MathJaxConfig: 'local'};</script>\n",
              "        <script src=\"https://cdn.plot.ly/plotly-latest.min.js\"></script>    \n",
              "            <div id=\"97e12f1d-117a-48a2-afd5-1af943661e35\" class=\"plotly-graph-div\" style=\"height:1536px; width:100%;\"></div>\n",
              "            <script type=\"text/javascript\">\n",
              "                \n",
              "                    window.PLOTLYENV=window.PLOTLYENV || {};\n",
              "                    \n",
              "                if (document.getElementById(\"97e12f1d-117a-48a2-afd5-1af943661e35\")) {\n",
              "                    Plotly.newPlot(\n",
              "                        '97e12f1d-117a-48a2-afd5-1af943661e35',\n",
              "                        [{\"type\": \"bar\", \"x\": [\"trump\", \"said\", \"president\", \"people\", \"just\", \"clinton\", \"obama\", \"like\", \"donald\", \"news\", \"new\", \"hillary\", \"time\", \"state\", \"white\", \"media\", \"twitter\", \"american\", \"america\", \"house\"], \"xaxis\": \"x\", \"y\": [79249, 33756, 27706, 26556, 20483, 19151, 18768, 18085, 17660, 14616, 14392, 14089, 13833, 13456, 13189, 11700, 11690, 11312, 11167, 11112], \"yaxis\": \"y\"}, {\"type\": \"bar\", \"x\": [\"donald trump\", \"featured image\", \"hillary clinton\", \"white house\", \"united states\", \"twitter com\", \"pic twitter\", \"new york\", \"president obama\", \"getty images\", \"president trump\", \"fox news\", \"year old\", \"barack obama\", \"21st century\", \"century wire\", \"trump campaign\", \"supreme court\", \"fake news\", \"social media\"], \"xaxis\": \"x2\", \"y\": [16280, 7692, 7270, 6743, 6663, 6538, 6172, 4352, 4081, 4022, 3964, 3467, 2748, 2350, 2272, 1930, 1858, 1826, 1815, 1753], \"yaxis\": \"y2\"}, {\"type\": \"bar\", \"x\": [\"pic twitter com\", \"21st century wire\", \"donald trump realdonaldtrump\", \"new york times\", \"black lives matter\", \"president donald trump\", \"president united states\", \"news 21st century\", \"president barack obama\", \"member 21wire tv\", \"featured image video\", \"century wire says\", \"video screen capture\", \"image video screen\", \"new york city\", \"featured image screenshot\", \"director james comey\", \"image screen capture\", \"www youtube com\", \"youtube com watch\"], \"xaxis\": \"x3\", \"y\": [6125, 1924, 1692, 1567, 1301, 1046, 1008, 943, 942, 775, 758, 733, 727, 695, 645, 597, 518, 518, 505, 503], \"yaxis\": \"y3\"}],\n",
              "                        {\"annotations\": [{\"font\": {\"size\": 16}, \"showarrow\": false, \"text\": \"Top 20 unigrams\", \"x\": 0.5, \"xanchor\": \"center\", \"xref\": \"paper\", \"y\": 1.0, \"yanchor\": \"bottom\", \"yref\": \"paper\"}, {\"font\": {\"size\": 16}, \"showarrow\": false, \"text\": \"Top 20 bigrams\", \"x\": 0.5, \"xanchor\": \"center\", \"xref\": \"paper\", \"y\": 0.6333333333333333, \"yanchor\": \"bottom\", \"yref\": \"paper\"}, {\"font\": {\"size\": 16}, \"showarrow\": false, \"text\": \"Top 20 trigrams\", \"x\": 0.5, \"xanchor\": \"center\", \"xref\": \"paper\", \"y\": 0.26666666666666666, \"yanchor\": \"bottom\", \"yref\": \"paper\"}], \"height\": 1536, \"template\": {\"data\": {\"bar\": [{\"error_x\": {\"color\": \"#2a3f5f\"}, \"error_y\": {\"color\": \"#2a3f5f\"}, \"marker\": {\"line\": {\"color\": \"#E5ECF6\", \"width\": 0.5}}, \"type\": \"bar\"}], \"barpolar\": [{\"marker\": {\"line\": {\"color\": \"#E5ECF6\", \"width\": 0.5}}, \"type\": \"barpolar\"}], \"carpet\": [{\"aaxis\": {\"endlinecolor\": \"#2a3f5f\", \"gridcolor\": \"white\", \"linecolor\": \"white\", \"minorgridcolor\": \"white\", \"startlinecolor\": \"#2a3f5f\"}, \"baxis\": {\"endlinecolor\": \"#2a3f5f\", \"gridcolor\": \"white\", \"linecolor\": \"white\", \"minorgridcolor\": \"white\", \"startlinecolor\": \"#2a3f5f\"}, \"type\": \"carpet\"}], \"choropleth\": [{\"colorbar\": {\"outlinewidth\": 0, \"ticks\": \"\"}, \"type\": \"choropleth\"}], \"contour\": [{\"colorbar\": {\"outlinewidth\": 0, \"ticks\": \"\"}, \"colorscale\": [[0.0, \"#0d0887\"], [0.1111111111111111, \"#46039f\"], [0.2222222222222222, \"#7201a8\"], [0.3333333333333333, \"#9c179e\"], [0.4444444444444444, \"#bd3786\"], [0.5555555555555556, \"#d8576b\"], [0.6666666666666666, \"#ed7953\"], [0.7777777777777778, \"#fb9f3a\"], [0.8888888888888888, \"#fdca26\"], [1.0, \"#f0f921\"]], \"type\": \"contour\"}], \"contourcarpet\": [{\"colorbar\": {\"outlinewidth\": 0, \"ticks\": \"\"}, \"type\": \"contourcarpet\"}], \"heatmap\": [{\"colorbar\": {\"outlinewidth\": 0, \"ticks\": \"\"}, \"colorscale\": [[0.0, \"#0d0887\"], [0.1111111111111111, \"#46039f\"], [0.2222222222222222, \"#7201a8\"], [0.3333333333333333, \"#9c179e\"], [0.4444444444444444, \"#bd3786\"], [0.5555555555555556, \"#d8576b\"], [0.6666666666666666, \"#ed7953\"], [0.7777777777777778, \"#fb9f3a\"], [0.8888888888888888, \"#fdca26\"], [1.0, \"#f0f921\"]], \"type\": \"heatmap\"}], \"heatmapgl\": [{\"colorbar\": {\"outlinewidth\": 0, \"ticks\": \"\"}, \"colorscale\": [[0.0, \"#0d0887\"], [0.1111111111111111, \"#46039f\"], [0.2222222222222222, \"#7201a8\"], [0.3333333333333333, \"#9c179e\"], [0.4444444444444444, \"#bd3786\"], [0.5555555555555556, \"#d8576b\"], [0.6666666666666666, \"#ed7953\"], [0.7777777777777778, \"#fb9f3a\"], [0.8888888888888888, \"#fdca26\"], [1.0, \"#f0f921\"]], \"type\": \"heatmapgl\"}], \"histogram\": [{\"marker\": {\"colorbar\": {\"outlinewidth\": 0, \"ticks\": \"\"}}, \"type\": \"histogram\"}], \"histogram2d\": [{\"colorbar\": {\"outlinewidth\": 0, \"ticks\": \"\"}, \"colorscale\": [[0.0, \"#0d0887\"], [0.1111111111111111, \"#46039f\"], [0.2222222222222222, \"#7201a8\"], [0.3333333333333333, \"#9c179e\"], [0.4444444444444444, \"#bd3786\"], [0.5555555555555556, \"#d8576b\"], [0.6666666666666666, \"#ed7953\"], [0.7777777777777778, \"#fb9f3a\"], [0.8888888888888888, \"#fdca26\"], [1.0, \"#f0f921\"]], \"type\": \"histogram2d\"}], \"histogram2dcontour\": [{\"colorbar\": {\"outlinewidth\": 0, \"ticks\": \"\"}, \"colorscale\": [[0.0, \"#0d0887\"], [0.1111111111111111, \"#46039f\"], [0.2222222222222222, \"#7201a8\"], [0.3333333333333333, \"#9c179e\"], [0.4444444444444444, \"#bd3786\"], [0.5555555555555556, \"#d8576b\"], [0.6666666666666666, \"#ed7953\"], [0.7777777777777778, \"#fb9f3a\"], [0.8888888888888888, \"#fdca26\"], [1.0, \"#f0f921\"]], \"type\": \"histogram2dcontour\"}], \"mesh3d\": [{\"colorbar\": {\"outlinewidth\": 0, \"ticks\": \"\"}, \"type\": \"mesh3d\"}], \"parcoords\": [{\"line\": {\"colorbar\": {\"outlinewidth\": 0, \"ticks\": \"\"}}, \"type\": \"parcoords\"}], \"pie\": [{\"automargin\": true, \"type\": \"pie\"}], \"scatter\": [{\"marker\": {\"colorbar\": {\"outlinewidth\": 0, \"ticks\": \"\"}}, \"type\": \"scatter\"}], \"scatter3d\": [{\"line\": {\"colorbar\": {\"outlinewidth\": 0, \"ticks\": \"\"}}, \"marker\": {\"colorbar\": {\"outlinewidth\": 0, \"ticks\": \"\"}}, \"type\": \"scatter3d\"}], \"scattercarpet\": [{\"marker\": {\"colorbar\": {\"outlinewidth\": 0, \"ticks\": \"\"}}, \"type\": \"scattercarpet\"}], \"scattergeo\": [{\"marker\": {\"colorbar\": {\"outlinewidth\": 0, \"ticks\": \"\"}}, \"type\": \"scattergeo\"}], \"scattergl\": [{\"marker\": {\"colorbar\": {\"outlinewidth\": 0, \"ticks\": \"\"}}, \"type\": \"scattergl\"}], \"scattermapbox\": [{\"marker\": {\"colorbar\": {\"outlinewidth\": 0, \"ticks\": \"\"}}, \"type\": \"scattermapbox\"}], \"scatterpolar\": [{\"marker\": {\"colorbar\": {\"outlinewidth\": 0, \"ticks\": \"\"}}, \"type\": \"scatterpolar\"}], \"scatterpolargl\": [{\"marker\": {\"colorbar\": {\"outlinewidth\": 0, \"ticks\": \"\"}}, \"type\": \"scatterpolargl\"}], \"scatterternary\": [{\"marker\": {\"colorbar\": {\"outlinewidth\": 0, \"ticks\": \"\"}}, \"type\": \"scatterternary\"}], \"surface\": [{\"colorbar\": {\"outlinewidth\": 0, \"ticks\": \"\"}, \"colorscale\": [[0.0, \"#0d0887\"], [0.1111111111111111, \"#46039f\"], [0.2222222222222222, \"#7201a8\"], [0.3333333333333333, \"#9c179e\"], [0.4444444444444444, \"#bd3786\"], [0.5555555555555556, \"#d8576b\"], [0.6666666666666666, \"#ed7953\"], [0.7777777777777778, \"#fb9f3a\"], [0.8888888888888888, \"#fdca26\"], [1.0, \"#f0f921\"]], \"type\": \"surface\"}], \"table\": [{\"cells\": {\"fill\": {\"color\": \"#EBF0F8\"}, \"line\": {\"color\": \"white\"}}, \"header\": {\"fill\": {\"color\": \"#C8D4E3\"}, \"line\": {\"color\": \"white\"}}, \"type\": \"table\"}]}, \"layout\": {\"annotationdefaults\": {\"arrowcolor\": \"#2a3f5f\", \"arrowhead\": 0, \"arrowwidth\": 1}, \"coloraxis\": {\"colorbar\": {\"outlinewidth\": 0, \"ticks\": \"\"}}, \"colorscale\": {\"diverging\": [[0, \"#8e0152\"], [0.1, \"#c51b7d\"], [0.2, \"#de77ae\"], [0.3, \"#f1b6da\"], [0.4, \"#fde0ef\"], [0.5, \"#f7f7f7\"], [0.6, \"#e6f5d0\"], [0.7, \"#b8e186\"], [0.8, \"#7fbc41\"], [0.9, \"#4d9221\"], [1, \"#276419\"]], \"sequential\": [[0.0, \"#0d0887\"], [0.1111111111111111, \"#46039f\"], [0.2222222222222222, \"#7201a8\"], [0.3333333333333333, \"#9c179e\"], [0.4444444444444444, \"#bd3786\"], [0.5555555555555556, \"#d8576b\"], [0.6666666666666666, \"#ed7953\"], [0.7777777777777778, \"#fb9f3a\"], [0.8888888888888888, \"#fdca26\"], [1.0, \"#f0f921\"]], \"sequentialminus\": [[0.0, \"#0d0887\"], [0.1111111111111111, \"#46039f\"], [0.2222222222222222, \"#7201a8\"], [0.3333333333333333, \"#9c179e\"], [0.4444444444444444, \"#bd3786\"], [0.5555555555555556, \"#d8576b\"], [0.6666666666666666, \"#ed7953\"], [0.7777777777777778, \"#fb9f3a\"], [0.8888888888888888, \"#fdca26\"], [1.0, \"#f0f921\"]]}, \"colorway\": [\"#636efa\", \"#EF553B\", \"#00cc96\", \"#ab63fa\", \"#FFA15A\", \"#19d3f3\", \"#FF6692\", \"#B6E880\", \"#FF97FF\", \"#FECB52\"], \"font\": {\"color\": \"#2a3f5f\"}, \"geo\": {\"bgcolor\": \"white\", \"lakecolor\": \"white\", \"landcolor\": \"#E5ECF6\", \"showlakes\": true, \"showland\": true, \"subunitcolor\": \"white\"}, \"hoverlabel\": {\"align\": \"left\"}, \"hovermode\": \"closest\", \"mapbox\": {\"style\": \"light\"}, \"paper_bgcolor\": \"white\", \"plot_bgcolor\": \"#E5ECF6\", \"polar\": {\"angularaxis\": {\"gridcolor\": \"white\", \"linecolor\": \"white\", \"ticks\": \"\"}, \"bgcolor\": \"#E5ECF6\", \"radialaxis\": {\"gridcolor\": \"white\", \"linecolor\": \"white\", \"ticks\": \"\"}}, \"scene\": {\"xaxis\": {\"backgroundcolor\": \"#E5ECF6\", \"gridcolor\": \"white\", \"gridwidth\": 2, \"linecolor\": \"white\", \"showbackground\": true, \"ticks\": \"\", \"zerolinecolor\": \"white\"}, \"yaxis\": {\"backgroundcolor\": \"#E5ECF6\", \"gridcolor\": \"white\", \"gridwidth\": 2, \"linecolor\": \"white\", \"showbackground\": true, \"ticks\": \"\", \"zerolinecolor\": \"white\"}, \"zaxis\": {\"backgroundcolor\": \"#E5ECF6\", \"gridcolor\": \"white\", \"gridwidth\": 2, \"linecolor\": \"white\", \"showbackground\": true, \"ticks\": \"\", \"zerolinecolor\": \"white\"}}, \"shapedefaults\": {\"line\": {\"color\": \"#2a3f5f\"}}, \"ternary\": {\"aaxis\": {\"gridcolor\": \"white\", \"linecolor\": \"white\", \"ticks\": \"\"}, \"baxis\": {\"gridcolor\": \"white\", \"linecolor\": \"white\", \"ticks\": \"\"}, \"bgcolor\": \"#E5ECF6\", \"caxis\": {\"gridcolor\": \"white\", \"linecolor\": \"white\", \"ticks\": \"\"}}, \"title\": {\"x\": 0.05}, \"xaxis\": {\"automargin\": true, \"gridcolor\": \"white\", \"linecolor\": \"white\", \"ticks\": \"\", \"title\": {\"standoff\": 15}, \"zerolinecolor\": \"white\", \"zerolinewidth\": 2}, \"yaxis\": {\"automargin\": true, \"gridcolor\": \"white\", \"linecolor\": \"white\", \"ticks\": \"\", \"title\": {\"standoff\": 15}, \"zerolinecolor\": \"white\", \"zerolinewidth\": 2}}}, \"title\": {\"text\": \"Distribuzione ngrammi pi\\u00f9 comuni per la classe Fake\"}, \"xaxis\": {\"anchor\": \"y\", \"domain\": [0.0, 1.0], \"title\": {\"text\": \"Words\"}}, \"xaxis2\": {\"anchor\": \"y2\", \"domain\": [0.0, 1.0], \"title\": {\"text\": \"Words\"}}, \"xaxis3\": {\"anchor\": \"y3\", \"domain\": [0.0, 1.0], \"title\": {\"text\": \"Words\"}}, \"yaxis\": {\"anchor\": \"x\", \"domain\": [0.7333333333333334, 1.0], \"title\": {\"text\": \"Frequency\"}}, \"yaxis2\": {\"anchor\": \"x2\", \"domain\": [0.3666666666666667, 0.6333333333333333], \"title\": {\"text\": \"Frequency\"}}, \"yaxis3\": {\"anchor\": \"x3\", \"domain\": [0.0, 0.26666666666666666], \"title\": {\"text\": \"Frequency\"}}},\n",
              "                        {\"responsive\": true}\n",
              "                    ).then(function(){\n",
              "                            \n",
              "var gd = document.getElementById('97e12f1d-117a-48a2-afd5-1af943661e35');\n",
              "var x = new MutationObserver(function (mutations, observer) {{\n",
              "        var display = window.getComputedStyle(gd).display;\n",
              "        if (!display || display === 'none') {{\n",
              "            console.log([gd, 'removed!']);\n",
              "            Plotly.purge(gd);\n",
              "            observer.disconnect();\n",
              "        }}\n",
              "}});\n",
              "\n",
              "// Listen for the removal of the full notebook cells\n",
              "var notebookContainer = gd.closest('#notebook-container');\n",
              "if (notebookContainer) {{\n",
              "    x.observe(notebookContainer, {childList: true});\n",
              "}}\n",
              "\n",
              "// Listen for the clearing of the current output cell\n",
              "var outputEl = gd.closest('.output');\n",
              "if (outputEl) {{\n",
              "    x.observe(outputEl, {childList: true});\n",
              "}}\n",
              "\n",
              "                        })\n",
              "                };\n",
              "                \n",
              "            </script>\n",
              "        </div>\n",
              "</body>\n",
              "</html>"
            ]
          },
          "metadata": {
            "tags": []
          }
        }
      ]
    },
    {
      "cell_type": "markdown",
      "metadata": {
        "id": "uWeD0D9Rg3d9",
        "colab_type": "text"
      },
      "source": [
        "## Preprocessing: text cleaning, tokenization e lemmatization\n",
        "* Prima di procedere alla classificazione, il testo deve essere preprocessato per: eliminare parole non rilevanti e stopwords, suddividere il testo in tokens ed estrarre il lemma di ciascun token. Tutte queste operazioni possono anche essere viste come una preliminare forma di riduzione della dimensionalità.\n",
        "* Per effettuare queste operazioni si utilizza, quando è possibile, la libreria nltk.\n",
        "* Per quanto riguarda la lemmatizzazione, nonostante sia un procedimento piuttosto oneroso per i costi di calcolo, è cruciale per ridurre il vocabolario di un corpus di documenti cosi vasto.\n",
        "La lemmatization è stata preferita allo stemming in quanto, a fronte di un numero simile di feature generate, produce parole che mantengono senso compiuto favorendo l'interpretazione."
      ]
    },
    {
      "cell_type": "code",
      "metadata": {
        "id": "XaqZ6nsBX7Zr",
        "colab_type": "code",
        "colab": {
          "base_uri": "https://localhost:8080/",
          "height": 136
        },
        "outputId": "63e89a12-4118-4878-e1e4-413ae80eafad"
      },
      "source": [
        "nltk.download('punkt')\n",
        "nltk.download(\"averaged_perceptron_tagger\")\n",
        "nltk.download(\"wordnet\")\n",
        "wnl = nltk.stem.WordNetLemmatizer()"
      ],
      "execution_count": 41,
      "outputs": [
        {
          "output_type": "stream",
          "text": [
            "[nltk_data] Downloading package punkt to /root/nltk_data...\n",
            "[nltk_data]   Unzipping tokenizers/punkt.zip.\n",
            "[nltk_data] Downloading package averaged_perceptron_tagger to\n",
            "[nltk_data]     /root/nltk_data...\n",
            "[nltk_data]   Unzipping taggers/averaged_perceptron_tagger.zip.\n",
            "[nltk_data] Downloading package wordnet to /root/nltk_data...\n",
            "[nltk_data]   Unzipping corpora/wordnet.zip.\n"
          ],
          "name": "stdout"
        }
      ]
    },
    {
      "cell_type": "markdown",
      "metadata": {
        "id": "GfClHkTqUv6a",
        "colab_type": "text"
      },
      "source": [
        "### Reuters e tweets\n",
        "*    Tornando per un momento alla cella in cui si sono mostrati, a scopo esemplificativo, i primi 10 articoli della categoria \"True\", si osservano due particolarità.\n",
        "1.   Gli articoli della categoria \"True\" sono presi dal giornale Reuters, per tanto nel testo degli articoli è presente sempre un riferimento al giornale e al luogo o area geografica di cui tratta la notizia (es. \"WASHINGTON (Reuters) - ...\"). Questa presenza di parole uguali in tutti gli articoli di una stessa categoria è un pattern che probabilmente l'algoritmo di learning andrebbe a sfruttare per effettuare la classificazione, si tratta perciò di un bias che è consigliabile rimuovere.\n",
        "2.   Alcuni articoli fanno riferimento a tweet della pagina Twitter di Donald Trump. Questi articoli hanno tutti una struttura simile e presentano uno stesso avviso che cita la pagina Twitter da cui è stato preso il tweet. Si è scelto di filtrare l'avviso per rimovere una porzione di testo che non possiede contenuto informativo."
      ]
    },
    {
      "cell_type": "markdown",
      "metadata": {
        "id": "izAC7wkJ0aAg",
        "colab_type": "text"
      },
      "source": [
        "* Questa funzione permette di elimare la testata di ciascun articolo, dove sono riportati il luogo e il giornale. Inoltre rimuove le intestazioni dei tweet citati da alcuni articoli."
      ]
    },
    {
      "cell_type": "code",
      "metadata": {
        "id": "crdYoyCyInqv",
        "colab_type": "code",
        "colab": {}
      },
      "source": [
        "def clean_reuters(text):\n",
        "    if \"@realDonaldTrump : - \" in text:\n",
        "        return text.split(\"@realDonaldTrump : - \")[1]\n",
        "    elif \"(Reuters) -\" in text:\n",
        "        return text.split(\"(Reuters) - \")[1]\n",
        "    else:\n",
        "        return text"
      ],
      "execution_count": 42,
      "outputs": []
    },
    {
      "cell_type": "markdown",
      "metadata": {
        "id": "szQn5AVg1HbT",
        "colab_type": "text"
      },
      "source": [
        "* Questa funzione realizza, per mezzo di espressioni regolari, un filtro su: link, parole tra parentesi, punteggiatura, numeri e parole più corte di 2 caratteri."
      ]
    },
    {
      "cell_type": "code",
      "metadata": {
        "id": "_xSlPSwUa1YR",
        "colab_type": "code",
        "colab": {}
      },
      "source": [
        "def clean_text(text):\n",
        "    text = text.lower()\n",
        "    text = re.sub(r'http:\\S+', '', text)\n",
        "    text = text.replace('–', '')\n",
        "    text = text.replace('-', '')\n",
        "    text = re.sub(r'\\([^)]*\\)', '', text)\n",
        "    text = re.sub(r'\\[.*?\\]', '', text)\n",
        "    text = re.sub(r'[%s]' % re.escape(string.punctuation + '«»‘’“”’'), ' ', text)\n",
        "    text = re.sub(r' \\b\\d{,}\\b ', ' ', text)\n",
        "    text = re.sub(r' \\b\\d{,}\\b ', ' ', text)\n",
        "    text = re.sub(r' \\b\\w{1,2}\\b ', ' ', text)\n",
        "    text = re.sub(r' \\b\\w{1,2}\\b ', ' ', text)\n",
        "    return text"
      ],
      "execution_count": 43,
      "outputs": []
    },
    {
      "cell_type": "markdown",
      "metadata": {
        "id": "5YhVWIDo1fYJ",
        "colab_type": "text"
      },
      "source": [
        "* Funzione che realizza la lemmatizzazione utilizzando la libreria nltk."
      ]
    },
    {
      "cell_type": "code",
      "metadata": {
        "id": "wDBdEbo0bEnu",
        "colab_type": "code",
        "colab": {}
      },
      "source": [
        "penn_to_wn = {\"N\": \"n\", \"V\": \"v\", \"J\": \"a\", \"R\": \"r\"}\n",
        "def tokenize_with_lemmatization(text, stoplist):\n",
        "    sent = []\n",
        "    for token, tag in nltk.pos_tag(nltk.tokenize.word_tokenize(text)):\n",
        "        if tag[0] in penn_to_wn:\n",
        "            tok = wnl.lemmatize(token, penn_to_wn[tag[0]])\n",
        "            if tok not in stoplist:\n",
        "                sent.append(wnl.lemmatize(token, penn_to_wn[tag[0]]))\n",
        "        elif token not in stoplist:\n",
        "            sent.append(token)    \n",
        "    return \" \".join(sent)"
      ],
      "execution_count": 44,
      "outputs": []
    },
    {
      "cell_type": "markdown",
      "metadata": {
        "id": "OkbXNq-s2IP1",
        "colab_type": "text"
      },
      "source": [
        "* Funzione per eliminare stopwords, la lista delle stopwords è passata come parametro alla funzione e in questo caso è presa da `nltk`."
      ]
    },
    {
      "cell_type": "code",
      "metadata": {
        "id": "8tWqA_H8mU8R",
        "colab_type": "code",
        "colab": {}
      },
      "source": [
        "def remove_stop(text, stoplist):\n",
        "    sent = []\n",
        "    for token in nltk.tokenize.word_tokenize(text):\n",
        "        if token not in stoplist:\n",
        "            sent.append(token)\n",
        "    return \" \".join(sent)"
      ],
      "execution_count": 45,
      "outputs": []
    },
    {
      "cell_type": "markdown",
      "metadata": {
        "id": "qwQwlJY8h0Mj",
        "colab_type": "text"
      },
      "source": [
        "* Funzione che realizza lo stemming di una stringa alla volta utilizzando `nltk`."
      ]
    },
    {
      "cell_type": "code",
      "metadata": {
        "id": "AigtA3bxMn9F",
        "colab_type": "code",
        "colab": {}
      },
      "source": [
        "ps = nltk.stem.PorterStemmer()\n",
        "def tokenize_with_stemming(text, stoplist):\n",
        "    return \" \".join([ps.stem(token) for token\n",
        "            in nltk.word_tokenize(text) if token not in stoplist])"
      ],
      "execution_count": 46,
      "outputs": []
    },
    {
      "cell_type": "code",
      "metadata": {
        "id": "f5vIjOjZz6xu",
        "colab_type": "code",
        "colab": {}
      },
      "source": [
        "stop_list = nltk.corpus.stopwords.words('english')\n",
        "stopwords_set = set(stop_list)"
      ],
      "execution_count": 47,
      "outputs": []
    },
    {
      "cell_type": "code",
      "metadata": {
        "id": "8_5Yl3IIaMQv",
        "colab_type": "code",
        "colab": {}
      },
      "source": [
        "# tempo di esecuzione alto\n",
        "true['text_clean'] = true.text.apply(lambda x: clean_reuters(x))\n",
        "true['text_clean'] = true['text_clean'].apply(lambda x: clean_text(x))\n",
        "true[\"text_lemmatize\"] =  true['text_clean'].apply(lambda x: tokenize_with_lemmatization(x, stopwords_set))"
      ],
      "execution_count": 48,
      "outputs": []
    },
    {
      "cell_type": "code",
      "metadata": {
        "id": "GbryirQjhQrU",
        "colab_type": "code",
        "colab": {}
      },
      "source": [
        "# tempo di esecuzione alto\n",
        "fake['text_clean'] = fake.text.apply(lambda x: clean_text(x))\n",
        "fake[\"text_lemmatize\"] =  fake['text_clean'].apply(lambda x: tokenize_with_lemmatization(x, stopwords_set))"
      ],
      "execution_count": 49,
      "outputs": []
    },
    {
      "cell_type": "markdown",
      "metadata": {
        "id": "J_cyXrQqxduE",
        "colab_type": "text"
      },
      "source": [
        "## Sentiment Analysis sui titoli con Vader\n",
        "* Si utilizza il modello Vader di `nltk` per compiere la sentiment analysis sui titoli degli articoli con l'intento di rilevare correlazioni tra la classe e il punteggio `'compound'` calcolato dal modello.\n",
        "* E' un'analisi interessante in quanto solitamente gli articoli di giornale hanno titoli sensazionalistici che mirano a catturare l'attenzione dei lettori.\n",
        "* In questo caso, sebbene numerosi articoli presentino un sentimento marcato, in negativo o in positivo, in media non predomina un sentimento pittosto che un altro e anche la media dei punteggi delle due classi è simile."
      ]
    },
    {
      "cell_type": "code",
      "metadata": {
        "id": "_kOSkf3LMyhT",
        "colab_type": "code",
        "colab": {
          "base_uri": "https://localhost:8080/",
          "height": 102
        },
        "outputId": "f4fb9708-ae84-4f96-ed99-1f002c0a5bcc"
      },
      "source": [
        "nltk.download(\"vader_lexicon\")\n",
        "from nltk.sentiment.vader import SentimentIntensityAnalyzer\n",
        "vader = SentimentIntensityAnalyzer()"
      ],
      "execution_count": 50,
      "outputs": [
        {
          "output_type": "stream",
          "text": [
            "[nltk_data] Downloading package vader_lexicon to /root/nltk_data...\n"
          ],
          "name": "stdout"
        },
        {
          "output_type": "stream",
          "text": [
            "/usr/local/lib/python3.6/dist-packages/nltk/twitter/__init__.py:20: UserWarning:\n",
            "\n",
            "The twython library has not been installed. Some functionality from the twitter package will not be available.\n",
            "\n"
          ],
          "name": "stderr"
        }
      ]
    },
    {
      "cell_type": "code",
      "metadata": {
        "id": "79dpaHzUNb84",
        "colab_type": "code",
        "colab": {}
      },
      "source": [
        "fake['title_sentiment'] = fake.title.str.lower().apply(lambda x: vader.polarity_scores(x)['compound'])"
      ],
      "execution_count": 51,
      "outputs": []
    },
    {
      "cell_type": "code",
      "metadata": {
        "id": "M8gU4nvkPnyg",
        "colab_type": "code",
        "colab": {}
      },
      "source": [
        "true['title_sentiment'] = true.title.str.lower().apply(lambda x: vader.polarity_scores(x)['compound'])"
      ],
      "execution_count": 52,
      "outputs": []
    },
    {
      "cell_type": "code",
      "metadata": {
        "id": "9-KULgG-Pao4",
        "colab_type": "code",
        "colab": {
          "base_uri": "https://localhost:8080/",
          "height": 279
        },
        "outputId": "ac761442-2074-496d-b0bc-bd3832b599f5"
      },
      "source": [
        "fake['title_sentiment'].plot.hist(bins=20, label='fake');\n",
        "true['title_sentiment'].plot.hist(bins=20, label='true');\n",
        "plt.xlabel('Compound Score')\n",
        "plt.ylabel('Frequency')\n",
        "plt.legend()\n",
        "plt.show()"
      ],
      "execution_count": 53,
      "outputs": [
        {
          "output_type": "display_data",
          "data": {
            "image/png": "[encoded data removed]",
            "text/plain": [
              "<Figure size 432x288 with 1 Axes>"
            ]
          },
          "metadata": {
            "tags": [],
            "needs_background": "light"
          }
        }
      ]
    },
    {
      "cell_type": "code",
      "metadata": {
        "id": "5pKU8oemPdev",
        "colab_type": "code",
        "colab": {
          "base_uri": "https://localhost:8080/",
          "height": 34
        },
        "outputId": "cb1ae1ff-f76f-4aae-ca51-5fd9b890ecc8"
      },
      "source": [
        "true['title_sentiment'].mean()"
      ],
      "execution_count": 54,
      "outputs": [
        {
          "output_type": "execute_result",
          "data": {
            "text/plain": [
              "-0.06747566772506773"
            ]
          },
          "metadata": {
            "tags": []
          },
          "execution_count": 54
        }
      ]
    },
    {
      "cell_type": "code",
      "metadata": {
        "id": "OLE27BOSQAwu",
        "colab_type": "code",
        "colab": {
          "base_uri": "https://localhost:8080/",
          "height": 34
        },
        "outputId": "5a64bc2a-df94-435d-b5b3-64828e9c72f2"
      },
      "source": [
        "fake['title_sentiment'].mean()"
      ],
      "execution_count": 55,
      "outputs": [
        {
          "output_type": "execute_result",
          "data": {
            "text/plain": [
              "-0.16024197762863548"
            ]
          },
          "metadata": {
            "tags": []
          },
          "execution_count": 55
        }
      ]
    },
    {
      "cell_type": "markdown",
      "metadata": {
        "id": "0Pld_UFy2-RE",
        "colab_type": "text"
      },
      "source": [
        "* La differenza nel punteggio `'compound'` tra le due classi, come si nota dal grafico e dalle medie calcolate, non è  molto significativa al fine di discriminare le classi stesse.\n",
        "* La maggioranza degli articoli presenta un titolo con sentimento \"neutro\"."
      ]
    },
    {
      "cell_type": "markdown",
      "metadata": {
        "id": "wQ7hFqOvhEkf",
        "colab_type": "text"
      },
      "source": [
        "## Preparazione train e test set per la classificazione"
      ]
    },
    {
      "cell_type": "markdown",
      "metadata": {
        "id": "fEE3ubGW3-3P",
        "colab_type": "text"
      },
      "source": [
        "* Si aggiunge una colonna ad entrambi i DataFrame con il valore target della classe corrispondente. Si è scelto di indicare con -1 gli articoli appartenenti a `true` e con +1 gli articoli appartenenti a `false`.\n",
        "* Successivamente i due DataFrame vengono combinati in un nuovo DataFrame `articles`, vengono scartate le colonne non utilizzate per la classificazione e si procede alla preparazione di train e validation set."
      ]
    },
    {
      "cell_type": "code",
      "metadata": {
        "id": "vYCW4KuyUaMO",
        "colab_type": "code",
        "colab": {}
      },
      "source": [
        "true['label'] = -1"
      ],
      "execution_count": 56,
      "outputs": []
    },
    {
      "cell_type": "code",
      "metadata": {
        "id": "qGccSZLjUgiq",
        "colab_type": "code",
        "colab": {}
      },
      "source": [
        "fake['label'] = 1"
      ],
      "execution_count": 57,
      "outputs": []
    },
    {
      "cell_type": "code",
      "metadata": {
        "id": "DaG5ExvFVAGx",
        "colab_type": "code",
        "colab": {}
      },
      "source": [
        "articles = pd.concat([true, fake], ignore_index=True)"
      ],
      "execution_count": 58,
      "outputs": []
    },
    {
      "cell_type": "markdown",
      "metadata": {
        "id": "vehQQ6RC5jfi",
        "colab_type": "text"
      },
      "source": [
        "* Panoramica della distribuzione delle classi all'interno del dataset unificato. Le due classi sono bilanciate a meno di una piccola percentuale."
      ]
    },
    {
      "cell_type": "code",
      "metadata": {
        "id": "NO4LG3vE5qXA",
        "colab_type": "code",
        "colab": {
          "base_uri": "https://localhost:8080/",
          "height": 248
        },
        "outputId": "7dc56aa5-5fee-459d-e2df-b1663564b2bc"
      },
      "source": [
        "articles['label'].value_counts().plot.pie()\n",
        "plt.show()"
      ],
      "execution_count": 59,
      "outputs": [
        {
          "output_type": "display_data",
          "data": {
            "image/png": "[encoded data removed]",
            "text/plain": [
              "<Figure size 432x288 with 1 Axes>"
            ]
          },
          "metadata": {
            "tags": []
          }
        }
      ]
    },
    {
      "cell_type": "code",
      "metadata": {
        "id": "NzDJIBOQVfNj",
        "colab_type": "code",
        "colab": {}
      },
      "source": [
        "articles.drop(columns=['title', 'subject', 'date', 'num_words', 'text', 'text_clean'], inplace=True)"
      ],
      "execution_count": 60,
      "outputs": []
    },
    {
      "cell_type": "code",
      "metadata": {
        "id": "R6r6A3W1Vik1",
        "colab_type": "code",
        "colab": {
          "base_uri": "https://localhost:8080/",
          "height": 204
        },
        "outputId": "c02e9d4d-e003-4cbf-e0b4-aa899249174d"
      },
      "source": [
        "articles.head(5)"
      ],
      "execution_count": 61,
      "outputs": [
        {
          "output_type": "execute_result",
          "data": {
            "text/html": [
              "<div>\n",
              "<style scoped>\n",
              "    .dataframe tbody tr th:only-of-type {\n",
              "        vertical-align: middle;\n",
              "    }\n",
              "\n",
              "    .dataframe tbody tr th {\n",
              "        vertical-align: top;\n",
              "    }\n",
              "\n",
              "    .dataframe thead th {\n",
              "        text-align: right;\n",
              "    }\n",
              "</style>\n",
              "<table border=\"1\" class=\"dataframe\">\n",
              "  <thead>\n",
              "    <tr style=\"text-align: right;\">\n",
              "      <th></th>\n",
              "      <th>uppercase</th>\n",
              "      <th>text_lemmatize</th>\n",
              "      <th>title_sentiment</th>\n",
              "      <th>label</th>\n",
              "    </tr>\n",
              "  </thead>\n",
              "  <tbody>\n",
              "    <tr>\n",
              "      <th>0</th>\n",
              "      <td>4</td>\n",
              "      <td>head conservative republican faction congress ...</td>\n",
              "      <td>-0.4939</td>\n",
              "      <td>-1</td>\n",
              "    </tr>\n",
              "    <tr>\n",
              "      <th>1</th>\n",
              "      <td>7</td>\n",
              "      <td>special counsel investigation link russia pres...</td>\n",
              "      <td>0.0000</td>\n",
              "      <td>-1</td>\n",
              "    </tr>\n",
              "    <tr>\n",
              "      <th>2</th>\n",
              "      <td>8</td>\n",
              "      <td>trump campaign adviser george papadopoulos tel...</td>\n",
              "      <td>0.0000</td>\n",
              "      <td>-1</td>\n",
              "    </tr>\n",
              "    <tr>\n",
              "      <th>3</th>\n",
              "      <td>4</td>\n",
              "      <td>president donald trump call postal service fri...</td>\n",
              "      <td>0.2449</td>\n",
              "      <td>-1</td>\n",
              "    </tr>\n",
              "    <tr>\n",
              "      <th>4</th>\n",
              "      <td>3</td>\n",
              "      <td>white house say friday set kick talk next week...</td>\n",
              "      <td>0.0000</td>\n",
              "      <td>-1</td>\n",
              "    </tr>\n",
              "  </tbody>\n",
              "</table>\n",
              "</div>"
            ],
            "text/plain": [
              "   uppercase  ... label\n",
              "0          4  ...    -1\n",
              "1          7  ...    -1\n",
              "2          8  ...    -1\n",
              "3          4  ...    -1\n",
              "4          3  ...    -1\n",
              "\n",
              "[5 rows x 4 columns]"
            ]
          },
          "metadata": {
            "tags": []
          },
          "execution_count": 61
        }
      ]
    },
    {
      "cell_type": "markdown",
      "metadata": {
        "id": "I__bUWtl44FC",
        "colab_type": "text"
      },
      "source": [
        "### Train set, validation set e test set\n",
        "* Si utilizza una funzione di sklearn per suddividere il DataFrame in tre insiemi: training set (35% delle istanze), validation set (35% delle istanze) e test set(30% delle istanze) rispettando la proporzione tra le classi.\n",
        "* I tre insiemi vengono usati nel seguente modo:\n",
        "*1. I modelli verranno addestrati con k cross fold validation stratificata e grid search sul training set, per trovare i migliori iperparametri.\n",
        "*2. Ciascun modello viene testato sul validation set con la migliore combinazione di iperparametri trovata al passo precedente.\n",
        "*3. I punteggi ottenuti sul validation set vengono confrontati per trovare il modello con la migliore accuratezza.\n",
        "*4. Si testa il modello migliore sul test set.\n"
      ]
    },
    {
      "cell_type": "code",
      "metadata": {
        "id": "jsP_v9QHUvu6",
        "colab_type": "code",
        "colab": {}
      },
      "source": [
        "from sklearn.model_selection import train_test_split\n",
        "articles_train, articles_test = train_test_split(articles, test_size=0.3, random_state=42)"
      ],
      "execution_count": 62,
      "outputs": []
    },
    {
      "cell_type": "code",
      "metadata": {
        "id": "oD_BOpBk2LYO",
        "colab_type": "code",
        "colab": {}
      },
      "source": [
        "articles_train, articles_val = train_test_split(articles_train, test_size=0.5, random_state=42)"
      ],
      "execution_count": 63,
      "outputs": []
    },
    {
      "cell_type": "code",
      "metadata": {
        "id": "6R0lWrfmV7Gg",
        "colab_type": "code",
        "colab": {
          "base_uri": "https://localhost:8080/",
          "height": 359
        },
        "outputId": "73d9d80f-4e9e-4208-8a68-48304b0a70fa"
      },
      "source": [
        "articles_train.head(10)"
      ],
      "execution_count": 64,
      "outputs": [
        {
          "output_type": "execute_result",
          "data": {
            "text/html": [
              "<div>\n",
              "<style scoped>\n",
              "    .dataframe tbody tr th:only-of-type {\n",
              "        vertical-align: middle;\n",
              "    }\n",
              "\n",
              "    .dataframe tbody tr th {\n",
              "        vertical-align: top;\n",
              "    }\n",
              "\n",
              "    .dataframe thead th {\n",
              "        text-align: right;\n",
              "    }\n",
              "</style>\n",
              "<table border=\"1\" class=\"dataframe\">\n",
              "  <thead>\n",
              "    <tr style=\"text-align: right;\">\n",
              "      <th></th>\n",
              "      <th>uppercase</th>\n",
              "      <th>text_lemmatize</th>\n",
              "      <th>title_sentiment</th>\n",
              "      <th>label</th>\n",
              "    </tr>\n",
              "  </thead>\n",
              "  <tbody>\n",
              "    <tr>\n",
              "      <th>22023</th>\n",
              "      <td>12</td>\n",
              "      <td>gene simmons 68yearold kiss bassist colead sin...</td>\n",
              "      <td>-0.5423</td>\n",
              "      <td>1</td>\n",
              "    </tr>\n",
              "    <tr>\n",
              "      <th>32632</th>\n",
              "      <td>19</td>\n",
              "      <td>know trump tell access hollywood host billy bu...</td>\n",
              "      <td>0.0000</td>\n",
              "      <td>1</td>\n",
              "    </tr>\n",
              "    <tr>\n",
              "      <th>19481</th>\n",
              "      <td>5</td>\n",
              "      <td>united state tuesday condemn attempted missile...</td>\n",
              "      <td>-0.4019</td>\n",
              "      <td>-1</td>\n",
              "    </tr>\n",
              "    <tr>\n",
              "      <th>20765</th>\n",
              "      <td>3</td>\n",
              "      <td>democratic presidential candidate hillary clin...</td>\n",
              "      <td>0.0000</td>\n",
              "      <td>-1</td>\n",
              "    </tr>\n",
              "    <tr>\n",
              "      <th>11521</th>\n",
              "      <td>1</td>\n",
              "      <td>trump administration major state appear head s...</td>\n",
              "      <td>0.0000</td>\n",
              "      <td>-1</td>\n",
              "    </tr>\n",
              "    <tr>\n",
              "      <th>12129</th>\n",
              "      <td>2</td>\n",
              "      <td>two month dominant military force eastern liby...</td>\n",
              "      <td>0.0000</td>\n",
              "      <td>-1</td>\n",
              "    </tr>\n",
              "    <tr>\n",
              "      <th>42845</th>\n",
              "      <td>54</td>\n",
              "      <td>cleanse history continue heck wrong city memph...</td>\n",
              "      <td>-0.5093</td>\n",
              "      <td>1</td>\n",
              "    </tr>\n",
              "    <tr>\n",
              "      <th>23486</th>\n",
              "      <td>19</td>\n",
              "      <td>official allegedly affiliate united state park...</td>\n",
              "      <td>0.0000</td>\n",
              "      <td>1</td>\n",
              "    </tr>\n",
              "    <tr>\n",
              "      <th>11805</th>\n",
              "      <td>3</td>\n",
              "      <td>union pacific corp say saturday repair rail li...</td>\n",
              "      <td>-0.3400</td>\n",
              "      <td>-1</td>\n",
              "    </tr>\n",
              "    <tr>\n",
              "      <th>27084</th>\n",
              "      <td>23</td>\n",
              "      <td>providence city council vote thursday give fir...</td>\n",
              "      <td>-0.9313</td>\n",
              "      <td>1</td>\n",
              "    </tr>\n",
              "  </tbody>\n",
              "</table>\n",
              "</div>"
            ],
            "text/plain": [
              "       uppercase  ... label\n",
              "22023         12  ...     1\n",
              "32632         19  ...     1\n",
              "19481          5  ...    -1\n",
              "20765          3  ...    -1\n",
              "11521          1  ...    -1\n",
              "12129          2  ...    -1\n",
              "42845         54  ...     1\n",
              "23486         19  ...     1\n",
              "11805          3  ...    -1\n",
              "27084         23  ...     1\n",
              "\n",
              "[10 rows x 4 columns]"
            ]
          },
          "metadata": {
            "tags": []
          },
          "execution_count": 64
        }
      ]
    },
    {
      "cell_type": "markdown",
      "metadata": {
        "id": "j_EgQFRi6EOm",
        "colab_type": "text"
      },
      "source": [
        "## Modello di classificazione con Regressione Logistica\n",
        "* Viene costruita una Pipeline di sklearn che racchiude una classe per l'estrazione di feature, una classe per la trasformazione di feature e un modello di classificazione.\n",
        "** CountVectorizer: permette di costruire la matrice termini-documenti che costituisce la rappresentazione di un corpus di documenti secondo il modello Bag-Of-Words.\n",
        "** TfidfTransformer: trasforma una matrice termini-documenti in una sua versione pesata con schema tf-idf e normalizzata con norma L2.\n",
        "** Logistic regression: modello di classificazione lineare scelto per discriminare le classi.\n",
        "\n"
      ]
    },
    {
      "cell_type": "code",
      "metadata": {
        "id": "bgdRkAklbMlG",
        "colab_type": "code",
        "colab": {}
      },
      "source": [
        "from sklearn.model_selection import StratifiedKFold, GridSearchCV\n",
        "from sklearn.pipeline import Pipeline\n",
        "from sklearn.linear_model import LogisticRegression\n",
        "from sklearn.feature_extraction.text import TfidfTransformer"
      ],
      "execution_count": 65,
      "outputs": []
    },
    {
      "cell_type": "code",
      "metadata": {
        "id": "UQQ_ym2PbNeO",
        "colab_type": "code",
        "colab": {
          "base_uri": "https://localhost:8080/",
          "height": 1000
        },
        "outputId": "7830c7f9-b886-41c8-bdaa-490fddbdcab7"
      },
      "source": [
        "# tempo di esecuzione alto\n",
        "logi_model = Pipeline([\n",
        "    (\"vectorizer\", CountVectorizer(max_df=0.9, ngram_range=(1,1))),\n",
        "    (\"transformer\", TfidfTransformer()),\n",
        "    (\"classifier\", LogisticRegression(solver='saga', random_state=42))\n",
        "])\n",
        "logi_grid = {\n",
        "    \"vectorizer__min_df\": [10, 100],\n",
        "    \"classifier__penalty\": ['l1', 'l2'],\n",
        "    \"classifier__C\": [10, 100]\n",
        "}\n",
        "skf = StratifiedKFold(3, shuffle=True, random_state=42)\n",
        "logi_gs = GridSearchCV(logi_model, logi_grid, cv=skf)\n",
        "logi_gs.fit(articles_train[\"text_lemmatize\"], articles_train[\"label\"]);"
      ],
      "execution_count": 66,
      "outputs": [
        {
          "output_type": "stream",
          "text": [
            "/usr/local/lib/python3.6/dist-packages/sklearn/linear_model/_sag.py:330: ConvergenceWarning:\n",
            "\n",
            "The max_iter was reached which means the coef_ did not converge\n",
            "\n",
            "/usr/local/lib/python3.6/dist-packages/sklearn/linear_model/_sag.py:330: ConvergenceWarning:\n",
            "\n",
            "The max_iter was reached which means the coef_ did not converge\n",
            "\n",
            "/usr/local/lib/python3.6/dist-packages/sklearn/linear_model/_sag.py:330: ConvergenceWarning:\n",
            "\n",
            "The max_iter was reached which means the coef_ did not converge\n",
            "\n",
            "/usr/local/lib/python3.6/dist-packages/sklearn/linear_model/_sag.py:330: ConvergenceWarning:\n",
            "\n",
            "The max_iter was reached which means the coef_ did not converge\n",
            "\n",
            "/usr/local/lib/python3.6/dist-packages/sklearn/linear_model/_sag.py:330: ConvergenceWarning:\n",
            "\n",
            "The max_iter was reached which means the coef_ did not converge\n",
            "\n",
            "/usr/local/lib/python3.6/dist-packages/sklearn/linear_model/_sag.py:330: ConvergenceWarning:\n",
            "\n",
            "The max_iter was reached which means the coef_ did not converge\n",
            "\n",
            "/usr/local/lib/python3.6/dist-packages/sklearn/linear_model/_sag.py:330: ConvergenceWarning:\n",
            "\n",
            "The max_iter was reached which means the coef_ did not converge\n",
            "\n",
            "/usr/local/lib/python3.6/dist-packages/sklearn/linear_model/_sag.py:330: ConvergenceWarning:\n",
            "\n",
            "The max_iter was reached which means the coef_ did not converge\n",
            "\n",
            "/usr/local/lib/python3.6/dist-packages/sklearn/linear_model/_sag.py:330: ConvergenceWarning:\n",
            "\n",
            "The max_iter was reached which means the coef_ did not converge\n",
            "\n",
            "/usr/local/lib/python3.6/dist-packages/sklearn/linear_model/_sag.py:330: ConvergenceWarning:\n",
            "\n",
            "The max_iter was reached which means the coef_ did not converge\n",
            "\n",
            "/usr/local/lib/python3.6/dist-packages/sklearn/linear_model/_sag.py:330: ConvergenceWarning:\n",
            "\n",
            "The max_iter was reached which means the coef_ did not converge\n",
            "\n",
            "/usr/local/lib/python3.6/dist-packages/sklearn/linear_model/_sag.py:330: ConvergenceWarning:\n",
            "\n",
            "The max_iter was reached which means the coef_ did not converge\n",
            "\n",
            "/usr/local/lib/python3.6/dist-packages/sklearn/linear_model/_sag.py:330: ConvergenceWarning:\n",
            "\n",
            "The max_iter was reached which means the coef_ did not converge\n",
            "\n",
            "/usr/local/lib/python3.6/dist-packages/sklearn/linear_model/_sag.py:330: ConvergenceWarning:\n",
            "\n",
            "The max_iter was reached which means the coef_ did not converge\n",
            "\n",
            "/usr/local/lib/python3.6/dist-packages/sklearn/linear_model/_sag.py:330: ConvergenceWarning:\n",
            "\n",
            "The max_iter was reached which means the coef_ did not converge\n",
            "\n",
            "/usr/local/lib/python3.6/dist-packages/sklearn/linear_model/_sag.py:330: ConvergenceWarning:\n",
            "\n",
            "The max_iter was reached which means the coef_ did not converge\n",
            "\n",
            "/usr/local/lib/python3.6/dist-packages/sklearn/linear_model/_sag.py:330: ConvergenceWarning:\n",
            "\n",
            "The max_iter was reached which means the coef_ did not converge\n",
            "\n",
            "/usr/local/lib/python3.6/dist-packages/sklearn/linear_model/_sag.py:330: ConvergenceWarning:\n",
            "\n",
            "The max_iter was reached which means the coef_ did not converge\n",
            "\n",
            "/usr/local/lib/python3.6/dist-packages/sklearn/linear_model/_sag.py:330: ConvergenceWarning:\n",
            "\n",
            "The max_iter was reached which means the coef_ did not converge\n",
            "\n"
          ],
          "name": "stderr"
        }
      ]
    },
    {
      "cell_type": "code",
      "metadata": {
        "id": "Lk6Fl3fdCPP-",
        "colab_type": "code",
        "colab": {
          "base_uri": "https://localhost:8080/",
          "height": 34
        },
        "outputId": "32b634f6-9a54-46b4-dde0-366f871a8cda"
      },
      "source": [
        "logi_gs.best_params_"
      ],
      "execution_count": 67,
      "outputs": [
        {
          "output_type": "execute_result",
          "data": {
            "text/plain": [
              "{'classifier__C': 10, 'classifier__penalty': 'l1', 'vectorizer__min_df': 10}"
            ]
          },
          "metadata": {
            "tags": []
          },
          "execution_count": 67
        }
      ]
    },
    {
      "cell_type": "code",
      "metadata": {
        "id": "VjX_NS-doPb_",
        "colab_type": "code",
        "colab": {
          "base_uri": "https://localhost:8080/",
          "height": 298
        },
        "outputId": "33f71d81-654a-4e0e-c0b9-37a485a08d83"
      },
      "source": [
        "pd.DataFrame(logi_gs.cv_results_, columns=['mean_fit_time', 'param_classifier__C', 'param_classifier__penalty', 'param_vectorizer__min_df', 'params', 'mean_test_score', 'rank_test_score']).sort_values(by='rank_test_score').head(3)"
      ],
      "execution_count": 68,
      "outputs": [
        {
          "output_type": "execute_result",
          "data": {
            "text/html": [
              "<div>\n",
              "<style scoped>\n",
              "    .dataframe tbody tr th:only-of-type {\n",
              "        vertical-align: middle;\n",
              "    }\n",
              "\n",
              "    .dataframe tbody tr th {\n",
              "        vertical-align: top;\n",
              "    }\n",
              "\n",
              "    .dataframe thead th {\n",
              "        text-align: right;\n",
              "    }\n",
              "</style>\n",
              "<table border=\"1\" class=\"dataframe\">\n",
              "  <thead>\n",
              "    <tr style=\"text-align: right;\">\n",
              "      <th></th>\n",
              "      <th>mean_fit_time</th>\n",
              "      <th>param_classifier__C</th>\n",
              "      <th>param_classifier__penalty</th>\n",
              "      <th>param_vectorizer__min_df</th>\n",
              "      <th>params</th>\n",
              "      <th>mean_test_score</th>\n",
              "      <th>rank_test_score</th>\n",
              "    </tr>\n",
              "  </thead>\n",
              "  <tbody>\n",
              "    <tr>\n",
              "      <th>0</th>\n",
              "      <td>12.924357</td>\n",
              "      <td>10</td>\n",
              "      <td>l1</td>\n",
              "      <td>10</td>\n",
              "      <td>{'classifier__C': 10, 'classifier__penalty': '...</td>\n",
              "      <td>0.975584</td>\n",
              "      <td>1</td>\n",
              "    </tr>\n",
              "    <tr>\n",
              "      <th>4</th>\n",
              "      <td>40.966314</td>\n",
              "      <td>100</td>\n",
              "      <td>l1</td>\n",
              "      <td>10</td>\n",
              "      <td>{'classifier__C': 100, 'classifier__penalty': ...</td>\n",
              "      <td>0.975519</td>\n",
              "      <td>2</td>\n",
              "    </tr>\n",
              "    <tr>\n",
              "      <th>6</th>\n",
              "      <td>4.125905</td>\n",
              "      <td>100</td>\n",
              "      <td>l2</td>\n",
              "      <td>10</td>\n",
              "      <td>{'classifier__C': 100, 'classifier__penalty': ...</td>\n",
              "      <td>0.974605</td>\n",
              "      <td>3</td>\n",
              "    </tr>\n",
              "  </tbody>\n",
              "</table>\n",
              "</div>"
            ],
            "text/plain": [
              "   mean_fit_time param_classifier__C  ... mean_test_score rank_test_score\n",
              "0      12.924357                  10  ...        0.975584               1\n",
              "4      40.966314                 100  ...        0.975519               2\n",
              "6       4.125905                 100  ...        0.974605               3\n",
              "\n",
              "[3 rows x 7 columns]"
            ]
          },
          "metadata": {
            "tags": []
          },
          "execution_count": 68
        }
      ]
    },
    {
      "cell_type": "code",
      "metadata": {
        "id": "WVhrc_OSe5T-",
        "colab_type": "code",
        "colab": {
          "base_uri": "https://localhost:8080/",
          "height": 34
        },
        "outputId": "3dff27a8-b93c-40c4-9997-eb08ee81d6c9"
      },
      "source": [
        "logi_gs.score(articles_val[\"text_lemmatize\"], articles_val[\"label\"])"
      ],
      "execution_count": 69,
      "outputs": [
        {
          "output_type": "execute_result",
          "data": {
            "text/plain": [
              "0.9798276537406972"
            ]
          },
          "metadata": {
            "tags": []
          },
          "execution_count": 69
        }
      ]
    },
    {
      "cell_type": "markdown",
      "metadata": {
        "id": "X1qJiZcPWApp",
        "colab_type": "text"
      },
      "source": [
        "## Modello di classificazione con Perceptron\n",
        "* Viene costruita una seconda Pipeline di sklearn che differisce dalla precedente per l'uso del modello lineare di classificazione Perceptron.\n",
        "** CountVectorizer: permette di costruire la matrice termini-documenti che costituisce la rappresentazione di un corpus di documenti secondo il modello Bag-Of-Words.\n",
        "** TfidfTransformer: trasforma una matrice termini-documenti in una sua versione pesata e normalizzata con norma L2.\n",
        "** Perceptron: modello di classificazione lineare scelto per discriminare le classi."
      ]
    },
    {
      "cell_type": "code",
      "metadata": {
        "id": "Y6eyogwOVbGh",
        "colab_type": "code",
        "colab": {}
      },
      "source": [
        "# tempo di esecuzione alto\n",
        "from sklearn.linear_model import Perceptron\n",
        "perc_model = Pipeline([\n",
        "    (\"vectorizer\", CountVectorizer(max_df=0.9, ngram_range=(1,1))),\n",
        "    (\"transformer\", TfidfTransformer()),\n",
        "    (\"classifier\", Perceptron(random_state=42))\n",
        "])\n",
        "perc_grid = {\n",
        "    \"vectorizer__min_df\": [10, 100],\n",
        "    \"classifier__penalty\": ['l1', 'l2'],\n",
        "    \"classifier__alpha\": [0.001, 0.0001]\n",
        "}\n",
        "skf = StratifiedKFold(3, shuffle=True, random_state=42)\n",
        "perc_gs = GridSearchCV(perc_model, perc_grid, cv=skf)\n",
        "perc_gs.fit(articles_train[\"text_lemmatize\"], articles_train[\"label\"]);"
      ],
      "execution_count": 70,
      "outputs": []
    },
    {
      "cell_type": "code",
      "metadata": {
        "id": "ZLNSuf-pnb54",
        "colab_type": "code",
        "colab": {
          "base_uri": "https://localhost:8080/",
          "height": 68
        },
        "outputId": "7e8eaee3-67be-481b-bccd-015ea36581f5"
      },
      "source": [
        "perc_gs.best_params_"
      ],
      "execution_count": 71,
      "outputs": [
        {
          "output_type": "execute_result",
          "data": {
            "text/plain": [
              "{'classifier__alpha': 0.0001,\n",
              " 'classifier__penalty': 'l2',\n",
              " 'vectorizer__min_df': 10}"
            ]
          },
          "metadata": {
            "tags": []
          },
          "execution_count": 71
        }
      ]
    },
    {
      "cell_type": "code",
      "metadata": {
        "id": "jUs-Stnpm6Tc",
        "colab_type": "code",
        "colab": {
          "base_uri": "https://localhost:8080/",
          "height": 264
        },
        "outputId": "c2c04f9a-ab34-4856-b038-1034c269b63b"
      },
      "source": [
        "pd.DataFrame(perc_gs.cv_results_, columns=['mean_fit_time', 'param_classifier__alpha', 'param_classifier__penalty', 'param_vectorizer__min_df', 'params', 'mean_test_score', 'rank_test_score']).sort_values(by='rank_test_score').head(3)"
      ],
      "execution_count": 72,
      "outputs": [
        {
          "output_type": "execute_result",
          "data": {
            "text/html": [
              "<div>\n",
              "<style scoped>\n",
              "    .dataframe tbody tr th:only-of-type {\n",
              "        vertical-align: middle;\n",
              "    }\n",
              "\n",
              "    .dataframe tbody tr th {\n",
              "        vertical-align: top;\n",
              "    }\n",
              "\n",
              "    .dataframe thead th {\n",
              "        text-align: right;\n",
              "    }\n",
              "</style>\n",
              "<table border=\"1\" class=\"dataframe\">\n",
              "  <thead>\n",
              "    <tr style=\"text-align: right;\">\n",
              "      <th></th>\n",
              "      <th>mean_fit_time</th>\n",
              "      <th>param_classifier__alpha</th>\n",
              "      <th>param_classifier__penalty</th>\n",
              "      <th>param_vectorizer__min_df</th>\n",
              "      <th>params</th>\n",
              "      <th>mean_test_score</th>\n",
              "      <th>rank_test_score</th>\n",
              "    </tr>\n",
              "  </thead>\n",
              "  <tbody>\n",
              "    <tr>\n",
              "      <th>6</th>\n",
              "      <td>1.946664</td>\n",
              "      <td>0.0001</td>\n",
              "      <td>l2</td>\n",
              "      <td>10</td>\n",
              "      <td>{'classifier__alpha': 0.0001, 'classifier__pen...</td>\n",
              "      <td>0.934717</td>\n",
              "      <td>1</td>\n",
              "    </tr>\n",
              "    <tr>\n",
              "      <th>7</th>\n",
              "      <td>1.897542</td>\n",
              "      <td>0.0001</td>\n",
              "      <td>l2</td>\n",
              "      <td>100</td>\n",
              "      <td>{'classifier__alpha': 0.0001, 'classifier__pen...</td>\n",
              "      <td>0.932889</td>\n",
              "      <td>2</td>\n",
              "    </tr>\n",
              "    <tr>\n",
              "      <th>5</th>\n",
              "      <td>1.946532</td>\n",
              "      <td>0.0001</td>\n",
              "      <td>l1</td>\n",
              "      <td>100</td>\n",
              "      <td>{'classifier__alpha': 0.0001, 'classifier__pen...</td>\n",
              "      <td>0.905275</td>\n",
              "      <td>3</td>\n",
              "    </tr>\n",
              "  </tbody>\n",
              "</table>\n",
              "</div>"
            ],
            "text/plain": [
              "   mean_fit_time param_classifier__alpha  ... mean_test_score rank_test_score\n",
              "6       1.946664                  0.0001  ...        0.934717               1\n",
              "7       1.897542                  0.0001  ...        0.932889               2\n",
              "5       1.946532                  0.0001  ...        0.905275               3\n",
              "\n",
              "[3 rows x 7 columns]"
            ]
          },
          "metadata": {
            "tags": []
          },
          "execution_count": 72
        }
      ]
    },
    {
      "cell_type": "code",
      "metadata": {
        "id": "3Vejx9xXWYJi",
        "colab_type": "code",
        "colab": {
          "base_uri": "https://localhost:8080/",
          "height": 34
        },
        "outputId": "0a9b15e1-fcca-4940-bf05-e9da61d544ac"
      },
      "source": [
        "perc_gs.score(articles_val[\"text_lemmatize\"], articles_val[\"label\"])"
      ],
      "execution_count": 73,
      "outputs": [
        {
          "output_type": "execute_result",
          "data": {
            "text/plain": [
              "0.9518213866039953"
            ]
          },
          "metadata": {
            "tags": []
          },
          "execution_count": 73
        }
      ]
    },
    {
      "cell_type": "markdown",
      "metadata": {
        "id": "8oi0b0-tYm5N",
        "colab_type": "text"
      },
      "source": [
        "## Confronto fra modelli\n",
        "* Viene creato un classificatore \"dummy\" che predice sempre la classe più comune ed è leggermente più performante di un classificatore completamente casuale. Inoltre funge da baseline e permette di evidenziare problemi di sbilanciamento tra le classi nel caso si ottenga un'accuratezza molto più alta di 1/2.\n",
        "* Poi vengono confrontati i modelli addestrati per valutare quale modello abbia accuratezza migliore con una confidenza del 95%."
      ]
    },
    {
      "cell_type": "markdown",
      "metadata": {
        "id": "HGCSqlpYbntw",
        "colab_type": "text"
      },
      "source": [
        "### Modello dummy\n",
        "* Il modello dummy, che funge da baseline, è un modello che predice sempre la classe più frequente."
      ]
    },
    {
      "cell_type": "code",
      "metadata": {
        "id": "sI1wTS73Wbe5",
        "colab_type": "code",
        "colab": {}
      },
      "source": [
        "from sklearn.dummy import DummyClassifier"
      ],
      "execution_count": 74,
      "outputs": []
    },
    {
      "cell_type": "code",
      "metadata": {
        "id": "nsMka_-Ub-uw",
        "colab_type": "code",
        "colab": {}
      },
      "source": [
        "dummy_model = Pipeline([\n",
        "    (\"vectorizer\", CountVectorizer(ngram_range=(1,1))),\n",
        "    (\"transformer\", TfidfTransformer()),\n",
        "    (\"classifier\", DummyClassifier(strategy=\"most_frequent\", random_state=42))\n",
        "])\n",
        "dummy_model.fit(articles_train[\"text_lemmatize\"], articles_train[\"label\"]);"
      ],
      "execution_count": 75,
      "outputs": []
    },
    {
      "cell_type": "code",
      "metadata": {
        "id": "eLoUc-d7c0cg",
        "colab_type": "code",
        "colab": {
          "base_uri": "https://localhost:8080/",
          "height": 34
        },
        "outputId": "133954b5-d950-4a57-f611-e06334d4ad7f"
      },
      "source": [
        "dummy_model.score(articles_val[\"text_lemmatize\"], articles_val[\"label\"])"
      ],
      "execution_count": 76,
      "outputs": [
        {
          "output_type": "execute_result",
          "data": {
            "text/plain": [
              "0.5121425773599687"
            ]
          },
          "metadata": {
            "tags": []
          },
          "execution_count": 76
        }
      ]
    },
    {
      "cell_type": "markdown",
      "metadata": {
        "id": "kkLqILRJc8rE",
        "colab_type": "text"
      },
      "source": [
        "### Confronto\n",
        "* Sia il modello che utilizza il Perceptron come classificatore che il modello che fa uso di Regressione Logistica hanno punteggi chiaramente migliori del modello dummy.\n",
        "* Il confronto viene perciò effettuato tra il modello `logi_model` (Regressione Logistica) e il modello `perc_model` (Perceptron)."
      ]
    },
    {
      "cell_type": "code",
      "metadata": {
        "id": "Btj4G38tglFG",
        "colab_type": "code",
        "colab": {}
      },
      "source": [
        "def conf_interval(a, N, Z=1.96):\n",
        "    c = (2 * N * a + Z**2) / (2 * (N + Z**2))\n",
        "    d = Z * np.sqrt(Z**2 + 4*N*a - 4*N*a**2) / (2 * (N + Z**2))\n",
        "    return c - d, c + d"
      ],
      "execution_count": 77,
      "outputs": []
    },
    {
      "cell_type": "code",
      "metadata": {
        "id": "E324WAAMc48m",
        "colab_type": "code",
        "colab": {}
      },
      "source": [
        "def model_conf_interval(model, X, y, level=0.95):\n",
        "    a = model.score(X, y)\n",
        "    N = len(X)\n",
        "    Z = stats.norm.ppf((1 + level) / 2)\n",
        "    return conf_interval(a, N, Z)"
      ],
      "execution_count": 78,
      "outputs": []
    },
    {
      "cell_type": "code",
      "metadata": {
        "id": "dKsgn4NuguVV",
        "colab_type": "code",
        "colab": {}
      },
      "source": [
        "def diff_interval(a1, a2, N1, N2, Z):\n",
        "    d = abs(a1 - a2)\n",
        "    sd = np.sqrt(a1 * (1-a1) / N1 + a2 * (1-a2) / N2)\n",
        "    return d - Z * sd, d + Z * sd"
      ],
      "execution_count": 79,
      "outputs": []
    },
    {
      "cell_type": "code",
      "metadata": {
        "id": "w7jo1Jt7g0jg",
        "colab_type": "code",
        "colab": {}
      },
      "source": [
        "def model_diff_interval(m1, m2, X, y, level=0.95):\n",
        "    a1 = m1.score(X, y)\n",
        "    a2 = m2.score(X, y)\n",
        "    N = len(X)\n",
        "    Z = stats.norm.ppf((1 + level) / 2)\n",
        "    return diff_interval(a1, a2, N, N, Z)"
      ],
      "execution_count": 80,
      "outputs": []
    },
    {
      "cell_type": "markdown",
      "metadata": {
        "id": "B5yjoKhjbTT6",
        "colab_type": "text"
      },
      "source": [
        "* Viene calcolata l'accuratezza dei due modelli con il 95% di confidenza."
      ]
    },
    {
      "cell_type": "code",
      "metadata": {
        "id": "qJmrFY-RhDMG",
        "colab_type": "code",
        "colab": {
          "base_uri": "https://localhost:8080/",
          "height": 51
        },
        "outputId": "e17aa316-8dde-4464-b9e9-a8a5148b7081"
      },
      "source": [
        "print('Accuratezza del modello con Regressione Logistica al 95% di confidenza:')\n",
        "model_conf_interval(logi_gs, articles_val[\"text_lemmatize\"], articles_val[\"label\"])"
      ],
      "execution_count": 81,
      "outputs": [
        {
          "output_type": "stream",
          "text": [
            "Accuratezza del modello con Regressione Logistica al 95% di confidenza:\n"
          ],
          "name": "stdout"
        },
        {
          "output_type": "execute_result",
          "data": {
            "text/plain": [
              "(0.9774779990618299, 0.9819367057246693)"
            ]
          },
          "metadata": {
            "tags": []
          },
          "execution_count": 81
        }
      ]
    },
    {
      "cell_type": "code",
      "metadata": {
        "id": "7tfTJ4ashDuV",
        "colab_type": "code",
        "colab": {
          "base_uri": "https://localhost:8080/",
          "height": 51
        },
        "outputId": "0e930aae-44b7-4ca0-befb-29b9ce322a8f"
      },
      "source": [
        "print('Accuratezza del modello con Percettrone al 95% di confidenza:')\n",
        "model_conf_interval(perc_gs, articles_val[\"text_lemmatize\"], articles_val[\"label\"])"
      ],
      "execution_count": 82,
      "outputs": [
        {
          "output_type": "stream",
          "text": [
            "Accuratezza del modello con Percettrone al 95% di confidenza:\n"
          ],
          "name": "stdout"
        },
        {
          "output_type": "execute_result",
          "data": {
            "text/plain": [
              "(0.9483154518141348, 0.9551007620399279)"
            ]
          },
          "metadata": {
            "tags": []
          },
          "execution_count": 82
        }
      ]
    },
    {
      "cell_type": "markdown",
      "metadata": {
        "id": "NsHRBePLbg3I",
        "colab_type": "text"
      },
      "source": [
        "* La differenza nell'accuratezza dei due modelli sarà modellabile con una distribuzione normale, di media pari alla differenza reale tra le due accuratezze e di varianza pari alla somma delle varianze dei due modelli. Se l'intervallo di confidenza al 95% della distribuzione della differenza non comprende lo zero, allora si può dire che statisticamente un modello è migliore dell'altro."
      ]
    },
    {
      "cell_type": "code",
      "metadata": {
        "id": "InaqJD36g32N",
        "colab_type": "code",
        "colab": {
          "base_uri": "https://localhost:8080/",
          "height": 51
        },
        "outputId": "2dbe2c50-72e9-4503-92e1-17944e2c7f16"
      },
      "source": [
        "print('Differenza degli intervalli di confidenza:')\n",
        "model_diff_interval(logi_gs, perc_gs, articles_val[\"text_lemmatize\"], articles_val[\"label\"])"
      ],
      "execution_count": 83,
      "outputs": [
        {
          "output_type": "stream",
          "text": [
            "Differenza degli intervalli di confidenza:\n"
          ],
          "name": "stdout"
        },
        {
          "output_type": "execute_result",
          "data": {
            "text/plain": [
              "(0.023949550934917976, 0.03206298333848594)"
            ]
          },
          "metadata": {
            "tags": []
          },
          "execution_count": 83
        }
      ]
    },
    {
      "cell_type": "markdown",
      "metadata": {
        "id": "TM8zbFMspsOU",
        "colab_type": "text"
      },
      "source": [
        "* La differenza tra l'accuratezza del modello con Regressione Logistica e il modello con Percettrone è statisticamente significativa.\n",
        "* Il modello con Regressione Logistica è migliore."
      ]
    },
    {
      "cell_type": "markdown",
      "metadata": {
        "id": "elx1Pc7_Yp9P",
        "colab_type": "text"
      },
      "source": [
        "## Interpretazione della conoscenza appresa\n",
        "* I pesi che l'algoritmo di learning ha assegnato a ciascuna variabile(==parola) permettono di capire quanto ciascuna parola influisca nel determinare la classe di un documento.\n",
        "* A pesi negativi corrispondono parole che orientano il modello verso la predizione di un articolo di classe -1 : True.\n",
        "* A persi postivi corrispondo parole che orientano il modello verso la predizione di un articolo di classe +1 : Fake."
      ]
    },
    {
      "cell_type": "code",
      "metadata": {
        "id": "jmhsJtsGpViP",
        "colab_type": "code",
        "colab": {}
      },
      "source": [
        "coefs = pd.Series(logi_gs.best_estimator_.named_steps['classifier'].coef_[0], index=logi_gs.best_estimator_.named_steps['vectorizer'].get_feature_names())\n",
        "coefs.sort_values(inplace=True, ascending=True)"
      ],
      "execution_count": 84,
      "outputs": []
    },
    {
      "cell_type": "markdown",
      "metadata": {
        "id": "eMJntM4JrC6V",
        "colab_type": "text"
      },
      "source": [
        "* Osservando le parole che determinano maggiormente la classe True, si nota che il modello ha correttamente individuato parole che nel contesto di un articolo di giornale ne evidenziano l'autenticità. \n",
        "* Parole come: say e spokeswoman sono collegate al riportare le fonti di ciò che viene scritto.\n",
        "* I giorni della settimana sono indicazioni di momenti e date, molto frequenti nella cronaca.\n",
        "* Reuters e newspaper dimostrano che il modello ha, per cosi dire, indovinato la natura dei documenti che ha elaborato.\n",
        "* Altre parole fanno riferimento al mondo della politica, principale argomento degli articoli."
      ]
    },
    {
      "cell_type": "code",
      "metadata": {
        "id": "_RrkB5pIrM_l",
        "colab_type": "code",
        "colab": {
          "base_uri": "https://localhost:8080/",
          "height": 289
        },
        "outputId": "05fee49d-4560-4db6-d54d-52f913cffb42"
      },
      "source": [
        "coefs.head(15)"
      ],
      "execution_count": 85,
      "outputs": [
        {
          "output_type": "execute_result",
          "data": {
            "text/plain": [
              "say            -32.476099\n",
              "reuters        -28.746632\n",
              "wednesday      -24.854795\n",
              "thursday       -24.218771\n",
              "nov            -22.319420\n",
              "link           -21.590736\n",
              "tuesday        -18.307143\n",
              "newspaper      -17.037637\n",
              "rival          -16.652357\n",
              "friday         -16.294771\n",
              "monday         -15.308128\n",
              "presidential   -14.603772\n",
              "spokeswoman    -14.564094\n",
              "capital        -11.879732\n",
              "nightclub      -11.281737\n",
              "dtype: float64"
            ]
          },
          "metadata": {
            "tags": []
          },
          "execution_count": 85
        }
      ]
    },
    {
      "cell_type": "markdown",
      "metadata": {
        "id": "nRE2eZmAs5lf",
        "colab_type": "text"
      },
      "source": [
        "* Tra le parole che determinano maggiormente la classe Fake:\n",
        "* getty, pic, image sono riferimenti a immagini e foto, sono comuni in articoli dove si punta al coinvolgimento emotivo del lettore senza veri e propri contenuti.\n",
        "* via, read, watch sono parole che rimandano all'usanza, tipica di articoli non veritieri, di rimandare a fonti non autorevoli come video o altre pagine web."
      ]
    },
    {
      "cell_type": "code",
      "metadata": {
        "id": "DKLCu07Ps2Y0",
        "colab_type": "code",
        "colab": {
          "base_uri": "https://localhost:8080/",
          "height": 289
        },
        "outputId": "182d854e-3f93-42ad-b930-7b3be2e2f0eb"
      },
      "source": [
        "coefs.tail(15)"
      ],
      "execution_count": 86,
      "outputs": [
        {
          "output_type": "execute_result",
          "data": {
            "text/plain": [
              "feature    17.680557\n",
              "wire       17.725167\n",
              "nyt        18.293875\n",
              "entire     19.630786\n",
              "getty      20.801982\n",
              "nyp        20.893167\n",
              "watch      21.713700\n",
              "rep        22.242100\n",
              "com        22.745920\n",
              "pic        22.897167\n",
              "sen        24.712071\n",
              "gop        30.913776\n",
              "image      32.537633\n",
              "read       37.532482\n",
              "via        82.854578\n",
              "dtype: float64"
            ]
          },
          "metadata": {
            "tags": []
          },
          "execution_count": 86
        }
      ]
    },
    {
      "cell_type": "markdown",
      "metadata": {
        "id": "MC8M62nAqt5t",
        "colab_type": "text"
      },
      "source": [
        "## Accuratezza sul test set\n",
        "* Si osserva la capacità del modello di generalizzare su dati nuovi.\n",
        "* Si calcolano sul test set la matrice di confusione e tutte le metriche di interesse per la classificazione."
      ]
    },
    {
      "cell_type": "code",
      "metadata": {
        "id": "dwYVIRlhgDba",
        "colab_type": "code",
        "colab": {
          "base_uri": "https://localhost:8080/",
          "height": 1000
        },
        "outputId": "6ca1db52-b7e8-4422-8aad-528b835fc685"
      },
      "source": [
        "from sklearn import metrics\n",
        "print(\"Classification report for classifier %s:\\n%s\\n\" % (logi_gs, metrics.classification_report(articles_test[\"label\"], logi_gs.predict(articles_test[\"text_lemmatize\"]))))\n",
        "disp = metrics.plot_confusion_matrix(logi_gs, articles_test[\"text_lemmatize\"], articles_test[\"label\"])\n",
        "disp.figure_.suptitle(\"Confusion Matrix\")\n",
        "print(\"Confusion matrix:\\n%s\" % disp.confusion_matrix)"
      ],
      "execution_count": 87,
      "outputs": [
        {
          "output_type": "stream",
          "text": [
            "Classification report for classifier GridSearchCV(cv=StratifiedKFold(n_splits=3, random_state=42, shuffle=True),\n",
            "             error_score=nan,\n",
            "             estimator=Pipeline(memory=None,\n",
            "                                steps=[('vectorizer',\n",
            "                                        CountVectorizer(analyzer='word',\n",
            "                                                        binary=False,\n",
            "                                                        decode_error='strict',\n",
            "                                                        dtype=<class 'numpy.int64'>,\n",
            "                                                        encoding='utf-8',\n",
            "                                                        input='content',\n",
            "                                                        lowercase=True,\n",
            "                                                        max_df=0.9,\n",
            "                                                        max_features=None,\n",
            "                                                        min_df=1,\n",
            "                                                        ngram_range=(1, 1),\n",
            "                                                        preprocesso...\n",
            "                                                           max_iter=100,\n",
            "                                                           multi_class='auto',\n",
            "                                                           n_jobs=None,\n",
            "                                                           penalty='l2',\n",
            "                                                           random_state=42,\n",
            "                                                           solver='saga',\n",
            "                                                           tol=0.0001,\n",
            "                                                           verbose=0,\n",
            "                                                           warm_start=False))],\n",
            "                                verbose=False),\n",
            "             iid='deprecated', n_jobs=None,\n",
            "             param_grid={'classifier__C': [10, 100],\n",
            "                         'classifier__penalty': ['l1', 'l2'],\n",
            "                         'vectorizer__min_df': [10, 100]},\n",
            "             pre_dispatch='2*n_jobs', refit=True, return_train_score=False,\n",
            "             scoring=None, verbose=0):\n",
            "              precision    recall  f1-score   support\n",
            "\n",
            "          -1       0.98      0.98      0.98      6430\n",
            "           1       0.98      0.98      0.98      6700\n",
            "\n",
            "    accuracy                           0.98     13130\n",
            "   macro avg       0.98      0.98      0.98     13130\n",
            "weighted avg       0.98      0.98      0.98     13130\n",
            "\n",
            "\n",
            "Confusion matrix:\n",
            "[[6305  125]\n",
            " [ 129 6571]]\n"
          ],
          "name": "stdout"
        },
        {
          "output_type": "display_data",
          "data": {
            "image/png": "[encoded data removed]",
            "text/plain": [
              "<Figure size 432x288 with 2 Axes>"
            ]
          },
          "metadata": {
            "tags": [],
            "needs_background": "light"
          }
        }
      ]
    },
    {
      "cell_type": "markdown",
      "metadata": {
        "id": "dsBnYskY9YVi",
        "colab_type": "text"
      },
      "source": [
        "## Predizione su nuovi articoli recenti\n",
        "* Il modello viene testato su due articoli recenti: \n",
        "** l'articolo nella variabile `reuters` è preso dalla famosa testata giornalistica ed è attendibile, per cui ci si aspetta che sia classificato come -1\n",
        "** l'articolo nella variabile `onion` è preso da una famosa testata umoristica americana, l'articolo contiene notizie false e perciò ci si aspetta sia classificato +1.\n",
        "\n"
      ]
    },
    {
      "cell_type": "code",
      "metadata": {
        "id": "kqkHdpF6lvPt",
        "colab_type": "code",
        "colab": {}
      },
      "source": [
        "def predict(text, model):\n",
        "    text = clean_reuters(text)\n",
        "    text = clean_text(text)\n",
        "    text = tokenize_with_lemmatization(text, stopwords_set)\n",
        "    pred = model.predict([text])\n",
        "    print(\"=> \", pred, np.where(pred > 0, 'fake', 'true')[0])"
      ],
      "execution_count": 88,
      "outputs": []
    },
    {
      "cell_type": "code",
      "metadata": {
        "id": "qjKWx1Ar8Wht",
        "colab_type": "code",
        "colab": {
          "base_uri": "https://localhost:8080/",
          "height": 34
        },
        "outputId": "de50d5e9-91b9-4950-bab2-6e5ee782acd1"
      },
      "source": [
        "reuters = 'WASHINGTON (Reuters) - U.S. President Donald Trump on Wednesday threatened to cut off funding to schools that do not open in the fall and criticized a federal health agency’s guidelines for reopening schools as “very tough & expensive.” The Republican president, who is seeking re-election in November, accused Democrats of wanting to keep schools shut for political reasons, despite a surge in coronavirus cases across the country. “The Dems think it would be bad for them politically if U.S. schools open before the November Election, but is important for the children & families. May cut off funding if not open!” Trump said on Twitter, pointing to schools reopening in some European countries with no problems. It was not clear what specific federal aid the Republican president had in mind. States are responsible for primary and secondary education under the U.S. Constitution, but the federal government provides some supplementary funding. Trump also took aim at the U.S. Centers for Disease Control and Prevention, the nation’s health protection agency whose director sits on the White House coronavirus task force. “I disagree with @CDCgov on their very tough & expensive guidelines for opening schools. While they want them open, they are asking schools to do very impractical things. I will be meeting with them!!!” Trump said in a separate Twitter post. On Tuesday, Trump held meetings about school reopenings at the White House and said he would pressure state governors to open schools in the fall.'\n",
        "predict(reuters, logi_gs)"
      ],
      "execution_count": 89,
      "outputs": [
        {
          "output_type": "stream",
          "text": [
            "=>  [-1] true\n"
          ],
          "name": "stdout"
        }
      ]
    },
    {
      "cell_type": "code",
      "metadata": {
        "id": "Ou2H3EYL8tuq",
        "colab_type": "code",
        "colab": {
          "base_uri": "https://localhost:8080/",
          "height": 34
        },
        "outputId": "5545956d-ef15-445c-dbee-a999dbc7627b"
      },
      "source": [
        "onion = 'WASHINGTON - In a letter to top donors explaining how their contributions would now be spent more efficiently than ever, the Democratic National Committee announced plans Tuesday to streamline its fundraising by completely eliminating the unnecessary costs of campaigns and candidates. “We’re confident that once our party is freed from the burden of putting forth nominees and running expensive campaigns, we’ll finally be able to focus all our efforts on generating as much revenue as possible,” wrote DNC chairman Tom Perez, adding that he hoped an upcoming series of fundraisers to which the letter’s recipients were invited would help pay for even bigger fundraisers down the line. “So just go online, make your donation, and we’ll take it from there. Whether you’re able to give $5 a month or cut us a check for the annual maximum of $35,500, we promise to take that money and put it toward making even more money. We’re confident that with no candidates or platforms to disagree on, Democrats of every stripe will unite to give us the financial support we’ve always wanted. Together, we can do this.” At press time, reports confirmed Perez was threatening to disburse all cash on hand to President Trump’s reelection campaign if donors failed to reach the DNC’s spring fundraising goal.'\n",
        "predict(onion, logi_gs)"
      ],
      "execution_count": 90,
      "outputs": [
        {
          "output_type": "stream",
          "text": [
            "=>  [1] fake\n"
          ],
          "name": "stdout"
        }
      ]
    },
    {
      "cell_type": "code",
      "metadata": {
        "id": "qvxlw7TF7DBi",
        "colab_type": "code",
        "colab": {}
      },
      "source": [
        ""
      ],
      "execution_count": null,
      "outputs": []
    }
  ]
}